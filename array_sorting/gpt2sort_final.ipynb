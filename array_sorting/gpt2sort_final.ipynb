{
  "nbformat": 4,
  "nbformat_minor": 0,
  "metadata": {
    "colab": {
      "provenance": [],
      "gpuType": "T4",
      "include_colab_link": true
    },
    "kernelspec": {
      "name": "python3",
      "display_name": "Python 3"
    },
    "language_info": {
      "name": "python"
    },
    "accelerator": "GPU"
  },
  "cells": [
    {
      "cell_type": "markdown",
      "metadata": {
        "id": "view-in-github",
        "colab_type": "text"
      },
      "source": [
        "<a href=\"https://colab.research.google.com/github/claire-fang/cs182-final-project/blob/main/array_sorting/gpt2sort_final.ipynb\" target=\"_parent\"><img src=\"https://colab.research.google.com/assets/colab-badge.svg\" alt=\"Open In Colab\"/></a>"
      ]
    },
    {
      "cell_type": "code",
      "execution_count": 2,
      "metadata": {
        "colab": {
          "base_uri": "https://localhost:8080/"
        },
        "id": "thAp6N3r9sLC",
        "outputId": "ecea8ade-4554-43d2-c44a-245d74880287"
      },
      "outputs": [
        {
          "output_type": "stream",
          "name": "stdout",
          "text": [
            "Mounted at /content/gdrive\n",
            "/content/gdrive/.shortcut-targets-by-id/1qq_eRQ7sEnurJKWlZrToQexrkT_1JQJn/gpt2_sort\n"
          ]
        }
      ],
      "source": [
        "# @title Mount your Google Drive\n",
        "\n",
        "import os\n",
        "from google.colab import drive\n",
        "drive.mount('/content/gdrive')\n",
        "\n",
        "DRIVE_PATH = '/content/gdrive/My\\ Drive/gpt2_sort'\n",
        "DRIVE_PYTHON_PATH = DRIVE_PATH.replace('\\\\', '')\n",
        "if not os.path.exists(DRIVE_PYTHON_PATH):\n",
        "  %mkdir $DRIVE_PATH\n",
        "\n",
        "%cd $DRIVE_PATH\n",
        "\n",
        "## The space in `My Drive` causes some issues, so make a symlink to avoid this.\n",
        "SYM_PATH = '/content/gpt2_sort'\n",
        "if not os.path.exists(SYM_PATH):\n",
        "  !ln -s $DRIVE_PATH $SYM_PATH"
      ]
    },
    {
      "cell_type": "code",
      "source": [
        "import numpy as np\n",
        "import os\n",
        "import random\n",
        "import torch\n",
        "from torch.nn.utils.rnn import pad_sequence\n",
        "from torch.utils.data import Dataset\n",
        "from transformers import (\n",
        "    GPT2Tokenizer,\n",
        "    GPT2LMHeadModel,\n",
        "    Trainer,\n",
        "    TrainingArguments,\n",
        "    GPT2Model\n",
        ")\n",
        "from sklearn.linear_model import LogisticRegression\n",
        "from sklearn.metrics import accuracy_score\n",
        "from collections import defaultdict\n",
        "import matplotlib.pyplot as plt\n",
        "import seaborn as sns"
      ],
      "metadata": {
        "id": "yaN3fVgX-SjM"
      },
      "execution_count": 3,
      "outputs": []
    },
    {
      "cell_type": "markdown",
      "source": [
        "# GPT-2 Sort Fine-tuning & Inference with Masked Loss\n",
        "This notebook fine-tunes GPT-2 on a custom sort dataset, masks the prompt tokens in loss so the model only learns to predict the output list, and supports inference."
      ],
      "metadata": {
        "id": "2jx_7KrX-MC2"
      }
    },
    {
      "cell_type": "markdown",
      "source": [
        "## Customized Dataset"
      ],
      "metadata": {
        "id": "9KXj3wT8-i14"
      }
    },
    {
      "cell_type": "code",
      "source": [
        "class SortDataset(Dataset):\n",
        "    \"\"\"\n",
        "    Each example has a prompt and an answer; inject an EOS after the prompt and another after the answer.\n",
        "    \"\"\"\n",
        "    def __init__(self, file_path, tokenizer, max_length=128):\n",
        "        with open(file_path, 'r') as f:\n",
        "            text = f.read().strip()\n",
        "        self.examples = text.split('\\n\\n')\n",
        "        self.tokenizer = tokenizer\n",
        "        self.max_length = max_length\n",
        "\n",
        "    def __len__(self):\n",
        "        return len(self.examples)\n",
        "\n",
        "    def __getitem__(self, idx):\n",
        "        # Split into prompt and answer\n",
        "        raw = self.examples[idx]             # e.g. \"Input: [13, 4]\\nOutput: [4, 13]\"\n",
        "        prompt, answer = raw.split('\\n', 1)\n",
        "        eos = self.tokenizer.eos_token\n",
        "\n",
        "        # Inject EOS between prompt and answer, and at the end\n",
        "        full = prompt + eos + answer + eos\n",
        "\n",
        "        tok = self.tokenizer(\n",
        "            full,\n",
        "            truncation=True,\n",
        "            max_length=self.max_length,\n",
        "            padding='max_length',\n",
        "            return_tensors='pt'\n",
        "        )\n",
        "        return {\n",
        "            'input_ids':      tok['input_ids'].squeeze(0),\n",
        "            'attention_mask': tok['attention_mask'].squeeze(0)\n",
        "        }"
      ],
      "metadata": {
        "id": "gxqPRKUS-EGI"
      },
      "execution_count": 4,
      "outputs": []
    },
    {
      "cell_type": "code",
      "source": [
        "def sort_collate(batch):\n",
        "    # 1) pull out lists of individual tensors\n",
        "    input_ids_list     = [item['input_ids']     for item in batch]\n",
        "    attention_mask_list= [item['attention_mask'] for item in batch]\n",
        "\n",
        "    # 2) pad up to the longest in this batch\n",
        "    input_ids     = pad_sequence(input_ids_list,     batch_first=True, padding_value=tokenizer.pad_token_id)\n",
        "    attention_mask= pad_sequence(attention_mask_list,batch_first=True, padding_value=0)\n",
        "\n",
        "    # 3) clone for labels\n",
        "    labels = input_ids.clone()\n",
        "\n",
        "    # 4) mask out the prompt (everything up to and including the first EOS)\n",
        "    eos_id = tokenizer.eos_token_id\n",
        "    for i, seq in enumerate(input_ids):\n",
        "        eos_positions = (seq == eos_id).nonzero(as_tuple=True)[0]\n",
        "        if len(eos_positions)>0:\n",
        "            prompt_end = eos_positions[0].item() + 1\n",
        "        else:\n",
        "            prompt_end = 0\n",
        "        labels[i, :prompt_end] = -100\n",
        "\n",
        "    # 5) mask out any padding positions\n",
        "    labels[attention_mask == 0] = -100\n",
        "\n",
        "    return {\n",
        "        'input_ids':      input_ids,\n",
        "        'attention_mask': attention_mask,\n",
        "        'labels':         labels\n",
        "    }"
      ],
      "metadata": {
        "id": "PDHfODkp-U5g"
      },
      "execution_count": 5,
      "outputs": []
    },
    {
      "cell_type": "markdown",
      "source": [
        "## Generate Training Samples"
      ],
      "metadata": {
        "id": "HgfeOAIJ-oK3"
      }
    },
    {
      "cell_type": "code",
      "source": [
        "def generate_random_arrays(num_examples=10000, max_arr_len=5, seed=123, weight=np.array([0.05, 0.05, 0.05, 0.05, 0.8])):\n",
        "  random.seed(seed)\n",
        "  length_num = map(int, weight * num_examples)\n",
        "  examples = []\n",
        "  for len, num in enumerate(length_num):\n",
        "    for _ in range(num):\n",
        "      arr = random.sample(range(100), len + 1)\n",
        "      sorted_arr = sorted(arr)\n",
        "      example = f\"Input: {arr}\\nOutput: {sorted_arr}\"\n",
        "      examples.append(example)\n",
        "  # shuffle the ordering\n",
        "  random.shuffle(examples)\n",
        "  return examples\n",
        "# generate_random_arrays(100)"
      ],
      "metadata": {
        "id": "Aj6qtM6M-e70"
      },
      "execution_count": 6,
      "outputs": []
    },
    {
      "cell_type": "code",
      "source": [
        "# # You only need to run this once!\n",
        "# samples = generate_random_arrays()\n",
        "\n",
        "# with open(\"./sort_train_with_weight.txt\", \"w\") as f:\n",
        "#     f.write(\"\\n\\n\".join(samples))"
      ],
      "metadata": {
        "id": "vwOOb2Y_-9IG"
      },
      "execution_count": 7,
      "outputs": []
    },
    {
      "cell_type": "markdown",
      "source": [
        "## Fine-Tuning GPT2"
      ],
      "metadata": {
        "id": "wi-b-ZhM-sMc"
      }
    },
    {
      "cell_type": "code",
      "source": [
        "def train(train_file, model_name='gpt2', output_dir='result',\n",
        "          batch_size=2, epochs=3, max_length=128, save_steps=500):\n",
        "    os.makedirs(output_dir, exist_ok=True)\n",
        "    global tokenizer\n",
        "    tokenizer = GPT2Tokenizer.from_pretrained(model_name)\n",
        "    tokenizer.pad_token = tokenizer.eos_token\n",
        "    # Save tokenizer for inference BEFORE training\n",
        "    tokenizer.save_pretrained(output_dir)\n",
        "    # dataset\n",
        "    ds = SortDataset(train_file, tokenizer, max_length)\n",
        "    # model\n",
        "    model = GPT2LMHeadModel.from_pretrained(model_name)\n",
        "    model.config.eos_token_id = tokenizer.eos_token_id\n",
        "    model.config.pad_token_id = tokenizer.pad_token_id\n",
        "    device = torch.device('cuda' if torch.cuda.is_available() else 'cpu')\n",
        "    model.to(device)\n",
        "    # training args\n",
        "    args = TrainingArguments(\n",
        "        output_dir=output_dir,\n",
        "        overwrite_output_dir=True,\n",
        "        per_device_train_batch_size=batch_size,\n",
        "        num_train_epochs=epochs,\n",
        "        save_steps=save_steps,\n",
        "        logging_steps=100,\n",
        "        report_to='none'\n",
        "    )\n",
        "    # trainer\n",
        "    trainer = Trainer(\n",
        "        model=model,\n",
        "        args=args,\n",
        "        data_collator=sort_collate,\n",
        "        train_dataset=ds\n",
        "    )\n",
        "    trainer.train()\n",
        "    trainer.save_model()\n"
      ],
      "metadata": {
        "id": "-0cAzG-u-WsE"
      },
      "execution_count": 8,
      "outputs": []
    },
    {
      "cell_type": "code",
      "source": [
        "# train('sort_train_with_weight.txt')"
      ],
      "metadata": {
        "id": "0vMf-zmF_Htj"
      },
      "execution_count": 9,
      "outputs": []
    },
    {
      "cell_type": "code",
      "source": [
        "steps = np.arange(1000, 15001, 1000)\n",
        "losses = [0.245800, 0.074000, 0.054100, 0.029900, 0.026200, 0.019400, 0.016600, 0.013000, 0.011100, 0.006500, 0.003600, 0.003200, 0.001400, 0.001200, 0.000900]\n",
        "plt.plot(steps, losses)"
      ],
      "metadata": {
        "id": "a-e3udPi_Qf-",
        "outputId": "4b918373-9f77-47b7-80ba-a22010c57411",
        "colab": {
          "base_uri": "https://localhost:8080/",
          "height": 447
        }
      },
      "execution_count": 10,
      "outputs": [
        {
          "output_type": "execute_result",
          "data": {
            "text/plain": [
              "[<matplotlib.lines.Line2D at 0x7cfa582f2610>]"
            ]
          },
          "metadata": {},
          "execution_count": 10
        },
        {
          "output_type": "display_data",
          "data": {
            "text/plain": [
              "<Figure size 640x480 with 1 Axes>"
            ],
            "image/png": "[encoded data removed]"
          },
          "metadata": {}
        }
      ]
    },
    {
      "cell_type": "markdown",
      "source": [
        "## Inference\n",
        "You can load our fine-tuned model if you don't want to train by *yourself*."
      ],
      "metadata": {
        "id": "zFJufmz7_Va1"
      }
    },
    {
      "cell_type": "code",
      "source": [
        "def infer(input_sequence: str,\n",
        "          model_dir: str = 'result',\n",
        "          max_new_tokens: int = 20):\n",
        "    # 1) Load tokenizer & model\n",
        "    tokenizer = GPT2Tokenizer.from_pretrained(model_dir)\n",
        "    if tokenizer.pad_token is None:\n",
        "        tokenizer.add_special_tokens({'pad_token':'<|pad|>'})\n",
        "    model = GPT2LMHeadModel.from_pretrained(model_dir)\n",
        "    model.resize_token_embeddings(len(tokenizer))\n",
        "    model.config.eos_token_id = tokenizer.eos_token_id\n",
        "    model.config.pad_token_id = tokenizer.pad_token_id\n",
        "\n",
        "    device = torch.device(\"cuda\" if torch.cuda.is_available() else \"cpu\")\n",
        "    model.to(device).eval()\n",
        "\n",
        "    # 2) Tokenize with attention mask\n",
        "    enc = tokenizer(\n",
        "        input_sequence,\n",
        "        return_tensors='pt',\n",
        "        padding=False,\n",
        "        truncation=True,\n",
        "        add_special_tokens=False\n",
        "    )\n",
        "    input_ids = enc['input_ids'].to(device)\n",
        "    attention_mask = enc['attention_mask'].to(device)\n",
        "\n",
        "    # 3) Generate *only* max_new_tokens\n",
        "    outputs = model.generate(\n",
        "        input_ids,\n",
        "        attention_mask=attention_mask,\n",
        "        max_new_tokens=max_new_tokens,\n",
        "        do_sample=False,    # ← switch to greedy\n",
        "        num_beams=1,        # ← no beam search, just greedy\n",
        "        eos_token_id=tokenizer.eos_token_id,\n",
        "        pad_token_id=tokenizer.pad_token_id,\n",
        "    )\n",
        "\n",
        "    # 4) Slice off the prompt tokens and decode only the new ones\n",
        "    gen_tokens = outputs[0, input_ids.shape[-1]:]\n",
        "    result = tokenizer.decode(gen_tokens, skip_special_tokens=True)\n",
        "    result = result.lstrip()\n",
        "    # print(result)\n",
        "    return result"
      ],
      "metadata": {
        "id": "Khy5soB3_TW9"
      },
      "execution_count": 11,
      "outputs": []
    },
    {
      "cell_type": "markdown",
      "source": [
        "### Length-2 Array Sorting"
      ],
      "metadata": {
        "id": "e8QrEKX6QdD4"
      }
    },
    {
      "cell_type": "code",
      "source": [
        "# generate length \"len\" arrays\n",
        "def inference_with_len(seed, len, num_samples=100):\n",
        "  num_correct = 0\n",
        "  random.seed(seed)\n",
        "  for i in range(num_samples):\n",
        "    lst = []\n",
        "    input = \"Input: [\"\n",
        "    for j in range(len):\n",
        "      random_a = random.randint(0, 100)\n",
        "      lst.append(random_a)\n",
        "    # sort a, b, c with python library:\n",
        "    sorted_lst = sorted(lst)\n",
        "    input = \"Input: \" + str(lst) + \"\\nOutput:\"\n",
        "    # print(input)\n",
        "    if infer(input) == f'{sorted_lst}':\n",
        "      num_correct += 1\n",
        "    if i % 10 == 0:\n",
        "        print(i)\n",
        "        print(f'Accuracy: {num_correct / (i+1)}')\n",
        "\n",
        "  print(num_samples)\n",
        "  print(f'Accuracy: {num_correct / num_samples}')"
      ],
      "metadata": {
        "id": "oDaaDNXQQ4Ky"
      },
      "execution_count": 12,
      "outputs": []
    },
    {
      "cell_type": "code",
      "source": [
        "inference_with_len(12345, 2, 100)"
      ],
      "metadata": {
        "colab": {
          "base_uri": "https://localhost:8080/"
        },
        "id": "XYDrp-gYWUcS",
        "outputId": "1676917c-b664-4677-b59a-c59b5048c744"
      },
      "execution_count": 13,
      "outputs": [
        {
          "output_type": "stream",
          "name": "stdout",
          "text": [
            "0\n",
            "Accuracy: 1.0\n",
            "10\n",
            "Accuracy: 1.0\n",
            "20\n",
            "Accuracy: 1.0\n",
            "30\n",
            "Accuracy: 1.0\n",
            "40\n",
            "Accuracy: 1.0\n",
            "50\n",
            "Accuracy: 1.0\n",
            "60\n",
            "Accuracy: 1.0\n",
            "70\n",
            "Accuracy: 1.0\n",
            "80\n",
            "Accuracy: 1.0\n",
            "90\n",
            "Accuracy: 1.0\n",
            "100\n",
            "Accuracy: 1.0\n"
          ]
        }
      ]
    },
    {
      "cell_type": "markdown",
      "source": [
        "### Length-3 Array Sorting"
      ],
      "metadata": {
        "id": "u-xhkMp_QktV"
      }
    },
    {
      "cell_type": "code",
      "source": [
        "inference_with_len(23456, 3, 100)"
      ],
      "metadata": {
        "colab": {
          "base_uri": "https://localhost:8080/"
        },
        "id": "kbxsKuq6QbMd",
        "outputId": "14d65b21-d408-4b41-dcc0-5b95be8f1a68"
      },
      "execution_count": 14,
      "outputs": [
        {
          "output_type": "stream",
          "name": "stdout",
          "text": [
            "0\n",
            "Accuracy: 1.0\n",
            "10\n",
            "Accuracy: 1.0\n",
            "20\n",
            "Accuracy: 1.0\n",
            "30\n",
            "Accuracy: 1.0\n",
            "40\n",
            "Accuracy: 1.0\n",
            "50\n",
            "Accuracy: 0.9803921568627451\n",
            "60\n",
            "Accuracy: 0.9836065573770492\n",
            "70\n",
            "Accuracy: 0.9859154929577465\n",
            "80\n",
            "Accuracy: 0.9876543209876543\n",
            "90\n",
            "Accuracy: 0.989010989010989\n",
            "100\n",
            "Accuracy: 0.99\n"
          ]
        }
      ]
    },
    {
      "cell_type": "markdown",
      "source": [
        "### Length-4 Array Sorting"
      ],
      "metadata": {
        "id": "yUklpTmyQmah"
      }
    },
    {
      "cell_type": "code",
      "source": [
        "inference_with_len(34567, 4, 100)"
      ],
      "metadata": {
        "colab": {
          "base_uri": "https://localhost:8080/"
        },
        "id": "2__5Oe-pQpYg",
        "outputId": "f25f4398-732e-4d29-a185-50322562c03a"
      },
      "execution_count": 15,
      "outputs": [
        {
          "output_type": "stream",
          "name": "stdout",
          "text": [
            "0\n",
            "Accuracy: 1.0\n",
            "10\n",
            "Accuracy: 1.0\n",
            "20\n",
            "Accuracy: 1.0\n",
            "30\n",
            "Accuracy: 1.0\n",
            "40\n",
            "Accuracy: 1.0\n",
            "50\n",
            "Accuracy: 0.9803921568627451\n",
            "60\n",
            "Accuracy: 0.9836065573770492\n",
            "70\n",
            "Accuracy: 0.971830985915493\n",
            "80\n",
            "Accuracy: 0.9753086419753086\n",
            "90\n",
            "Accuracy: 0.978021978021978\n",
            "100\n",
            "Accuracy: 0.98\n"
          ]
        }
      ]
    },
    {
      "cell_type": "markdown",
      "source": [
        "### Length-5 Array Sorting"
      ],
      "metadata": {
        "id": "whEUIlFjWfm5"
      }
    },
    {
      "cell_type": "code",
      "source": [
        "inference_with_len(45678, 5, 100)"
      ],
      "metadata": {
        "colab": {
          "base_uri": "https://localhost:8080/"
        },
        "id": "6rPOLbeOWexT",
        "outputId": "67d6f23c-d9ab-48c1-cc1a-0a62a7cc76b3"
      },
      "execution_count": 16,
      "outputs": [
        {
          "output_type": "stream",
          "name": "stdout",
          "text": [
            "0\n",
            "Accuracy: 1.0\n",
            "10\n",
            "Accuracy: 1.0\n",
            "20\n",
            "Accuracy: 1.0\n",
            "30\n",
            "Accuracy: 1.0\n",
            "40\n",
            "Accuracy: 1.0\n",
            "50\n",
            "Accuracy: 0.9803921568627451\n",
            "60\n",
            "Accuracy: 0.9836065573770492\n",
            "70\n",
            "Accuracy: 0.9859154929577465\n",
            "80\n",
            "Accuracy: 0.9753086419753086\n",
            "90\n",
            "Accuracy: 0.9560439560439561\n",
            "100\n",
            "Accuracy: 0.95\n"
          ]
        }
      ]
    },
    {
      "cell_type": "markdown",
      "source": [
        "### Length-6 Array Sorting"
      ],
      "metadata": {
        "id": "CDiUt6LVWl7t"
      }
    },
    {
      "cell_type": "code",
      "source": [
        "inference_with_len(56789, 6, 100)"
      ],
      "metadata": {
        "colab": {
          "base_uri": "https://localhost:8080/"
        },
        "id": "MLIsFsVuWlcG",
        "outputId": "9be74a9b-bb70-45f4-a738-e387a50a3efd"
      },
      "execution_count": 17,
      "outputs": [
        {
          "output_type": "stream",
          "name": "stdout",
          "text": [
            "0\n",
            "Accuracy: 1.0\n",
            "10\n",
            "Accuracy: 0.7272727272727273\n",
            "20\n",
            "Accuracy: 0.6190476190476191\n",
            "30\n",
            "Accuracy: 0.5806451612903226\n",
            "40\n",
            "Accuracy: 0.5121951219512195\n",
            "50\n",
            "Accuracy: 0.47058823529411764\n",
            "60\n",
            "Accuracy: 0.45901639344262296\n",
            "70\n",
            "Accuracy: 0.4225352112676056\n",
            "80\n",
            "Accuracy: 0.43209876543209874\n",
            "90\n",
            "Accuracy: 0.4725274725274725\n",
            "100\n",
            "Accuracy: 0.46\n"
          ]
        }
      ]
    },
    {
      "cell_type": "code",
      "source": [
        "inference_with_len(56789, 7, 100)"
      ],
      "metadata": {
        "colab": {
          "base_uri": "https://localhost:8080/"
        },
        "id": "MvCaIJENXOf-",
        "outputId": "4f44003f-5c69-41b8-d6f6-eecaccdd9d80"
      },
      "execution_count": 18,
      "outputs": [
        {
          "output_type": "stream",
          "name": "stdout",
          "text": [
            "0\n",
            "Accuracy: 0.0\n",
            "10\n",
            "Accuracy: 0.5454545454545454\n",
            "20\n",
            "Accuracy: 0.7142857142857143\n",
            "30\n",
            "Accuracy: 0.6451612903225806\n",
            "40\n",
            "Accuracy: 0.6097560975609756\n",
            "50\n",
            "Accuracy: 0.5882352941176471\n",
            "60\n",
            "Accuracy: 0.5245901639344263\n",
            "70\n",
            "Accuracy: 0.5070422535211268\n",
            "80\n",
            "Accuracy: 0.5308641975308642\n",
            "90\n",
            "Accuracy: 0.5164835164835165\n",
            "100\n",
            "Accuracy: 0.5\n"
          ]
        }
      ]
    },
    {
      "cell_type": "markdown",
      "source": [
        "## Linear Probing"
      ],
      "metadata": {
        "id": "bFKcrR4OXqgZ"
      }
    },
    {
      "cell_type": "code",
      "source": [
        "# Load Fine-tuned result\n",
        "tokenizer = GPT2Tokenizer.from_pretrained(\"result\")\n",
        "model = GPT2Model.from_pretrained(\"result\", output_hidden_states=True)\n",
        "model.eval()\n",
        "for p in model.parameters():\n",
        "    p.requires_grad = False\n",
        "\n",
        "# Generate synthetic data\n",
        "def generate_example():\n",
        "    arr = random.sample(range(100), 5)\n",
        "    sorted_arr = sorted(arr)\n",
        "    return arr, [sorted_arr.index(x) for x in arr]  # arr, sorted_positions\n",
        "\n",
        "# Get hidden states for number tokens\n",
        "def extract_token_hidden_states(arr, labels):\n",
        "    layer_dict = {}\n",
        "    prompt = f\"Input: {arr}\\nOutput:\"\n",
        "    # Tokenize with attention mask\n",
        "    device = torch.device('cuda' if torch.cuda.is_available() else 'cpu')\n",
        "    inputs = tokenizer(prompt, return_tensors=\"pt\")\n",
        "\n",
        "    with torch.no_grad():\n",
        "        outputs = model(**inputs) # perform a forward pass\n",
        "\n",
        "    tokens = tokenizer.tokenize(prompt)\n",
        "    token_ids = inputs['input_ids'][0].tolist()\n",
        "    decoded_tokens = [tokenizer.decode([tok]) for tok in token_ids]\n",
        "\n",
        "    for layer in range(13):\n",
        "        hidden = outputs.hidden_states[layer][0]  # shape: [seq_len, hidden_dim]; use [0] since we only have one batch\n",
        "\n",
        "        features = []\n",
        "        final_labels = []\n",
        "\n",
        "        for i, tok in enumerate(decoded_tokens):\n",
        "            try:\n",
        "                # Only keep number tokens (e.g. \"3\", \"Ġ1\", \"Ġ4\")\n",
        "                val = int(tok.strip())\n",
        "                if val in arr:\n",
        "                    idx_in_arr = arr.index(val)\n",
        "                    features.append(hidden[i].numpy()) # the hidden state correspinding to the ith element inside arr\n",
        "                    final_labels.append(labels[idx_in_arr])\n",
        "            except:\n",
        "                continue\n",
        "        layer_dict[layer] = (features, final_labels)\n",
        "\n",
        "    return layer_dict"
      ],
      "metadata": {
        "id": "KsM714KqXWQI"
      },
      "execution_count": 19,
      "outputs": []
    },
    {
      "cell_type": "code",
      "source": [
        "# Build dataset for each layer\n",
        "samples = []\n",
        "for _ in range(500):  # generate 500 samples\n",
        "  samples.append(generate_example())\n",
        "\n",
        "X_dict, y_dict = defaultdict(list), defaultdict(list)\n",
        "for arr, labels in samples:\n",
        "  layer_dict = extract_token_hidden_states(arr, labels)\n",
        "  for layer in range(13):\n",
        "    feats, labs = layer_dict[layer]\n",
        "    X_dict[layer].extend(feats)\n",
        "    y_dict[layer].extend(labs)"
      ],
      "metadata": {
        "id": "rEB0CPVNZEKU"
      },
      "execution_count": 20,
      "outputs": []
    },
    {
      "cell_type": "code",
      "source": [
        "from sklearn import preprocessing\n",
        "\n",
        "accs = []\n",
        "y_pred_dict = {}\n",
        "for layer in range(13):\n",
        "  # Train linear probe\n",
        "  # X_train, X_test, y_train, y_test = train_test_split(X_dict[layer], y_dict[layer], test_size=0.2)\n",
        "  X_train, X_test, y_train, y_test = X_dict[layer][:1600], X_dict[layer][1600:], y_dict[layer][:1600], y_dict[layer][1600:]\n",
        "\n",
        "  # standardization\n",
        "  scaler_train = preprocessing.StandardScaler().fit(X_train)\n",
        "  X_train = scaler_train.transform(X_train)\n",
        "  scaler_test = preprocessing.StandardScaler().fit(X_test)\n",
        "  X_test = scaler_test.transform(X_test)\n",
        "\n",
        "  clf = LogisticRegression(max_iter=1500)\n",
        "  clf.fit(X_train, y_train)\n",
        "  y_pred = clf.predict(X_test)\n",
        "\n",
        "  # Evaluate\n",
        "  acc = accuracy_score(y_test, y_pred)\n",
        "  y_pred_dict[layer] = y_pred\n",
        "  accs.append(acc)\n",
        "  print(f\"Linear probe accuracy for layer {layer}: {acc:.4f}\")"
      ],
      "metadata": {
        "id": "BsBfckup10X_",
        "outputId": "4c8d7a6f-4145-4afc-e3e8-5fb95ed70cfd",
        "colab": {
          "base_uri": "https://localhost:8080/"
        }
      },
      "execution_count": 21,
      "outputs": [
        {
          "output_type": "stream",
          "name": "stdout",
          "text": [
            "Linear probe accuracy for layer 0: 0.4378\n",
            "Linear probe accuracy for layer 1: 0.5200\n",
            "Linear probe accuracy for layer 2: 0.5189\n",
            "Linear probe accuracy for layer 3: 0.5178\n",
            "Linear probe accuracy for layer 4: 0.5411\n",
            "Linear probe accuracy for layer 5: 0.5489\n",
            "Linear probe accuracy for layer 6: 0.5422\n",
            "Linear probe accuracy for layer 7: 0.5478\n",
            "Linear probe accuracy for layer 8: 0.5678\n",
            "Linear probe accuracy for layer 9: 0.5711\n",
            "Linear probe accuracy for layer 10: 0.5678\n",
            "Linear probe accuracy for layer 11: 0.5611\n",
            "Linear probe accuracy for layer 12: 0.5333\n"
          ]
        }
      ]
    },
    {
      "cell_type": "code",
      "source": [
        "sns.scatterplot(x=list(range(13)), y=accs)\n",
        "sns.lineplot(x=list(range(13)), y=accs)\n",
        "plt.xlabel(\"Layer\")\n",
        "plt.ylabel(\"Accuracy\")\n",
        "plt.title(\"Accuracy of predicting token position in sorted array using each layer's hidden states\")"
      ],
      "metadata": {
        "id": "93s7CFGO119-",
        "outputId": "1abb4efe-4fc7-4f1c-faf3-8bd402c50c74",
        "colab": {
          "base_uri": "https://localhost:8080/",
          "height": 489
        }
      },
      "execution_count": 22,
      "outputs": [
        {
          "output_type": "execute_result",
          "data": {
            "text/plain": [
              "Text(0.5, 1.0, \"Accuracy of predicting token position in sorted array using each layer's hidden states\")"
            ]
          },
          "metadata": {},
          "execution_count": 22
        },
        {
          "output_type": "display_data",
          "data": {
            "text/plain": [
              "<Figure size 640x480 with 1 Axes>"
            ],
            "image/png": "[encoded data removed]"
          },
          "metadata": {}
        }
      ]
    },
    {
      "cell_type": "markdown",
      "source": [
        "## Setting up Tuned Lens"
      ],
      "metadata": {
        "id": "FKmfjHXZr0xQ"
      }
    },
    {
      "cell_type": "code",
      "source": [
        "#@title Setup Environment for Tuned Lens\n",
        "!git clone https://github.com/AlignmentResearch/tuned-lens.git\n",
        "%cd tuned-lens\n",
        "!pip install -e \".[dev]\"\n",
        "!pre-commit install\n",
        "# 1) Re-pin torchdata to the last version with dataloader2\n",
        "!pip install torchdata==0.8.0 --force-reinstall --no-deps\n",
        "\n",
        "# 2) Install your cloned tuned-lens in editable mode, but don't install its dependencies\n",
        "!pip install --no-deps -e /content/tuned-lens\n",
        "\n",
        "# It's okay if it errors here as long as the later cells can run successfully."
      ],
      "metadata": {
        "id": "GrwKZ__Ir2SN",
        "outputId": "d7337a6d-8be3-4ad1-a521-cee0db22f601",
        "colab": {
          "base_uri": "https://localhost:8080/",
          "height": 1000
        }
      },
      "execution_count": 23,
      "outputs": [
        {
          "output_type": "stream",
          "name": "stdout",
          "text": [
            "fatal: destination path 'tuned-lens' already exists and is not an empty directory.\n",
            "/content/gdrive/.shortcut-targets-by-id/1qq_eRQ7sEnurJKWlZrToQexrkT_1JQJn/gpt2_sort/tuned-lens\n",
            "Obtaining file:///content/gdrive/.shortcut-targets-by-id/1qq_eRQ7sEnurJKWlZrToQexrkT_1JQJn/gpt2_sort/tuned-lens\n",
            "  Installing build dependencies ... \u001b[?25l\u001b[?25hdone\n",
            "  Checking if build backend supports build_editable ... \u001b[?25l\u001b[?25hdone\n",
            "  Getting requirements to build editable ... \u001b[?25l\u001b[?25hdone\n",
            "  Preparing editable metadata (pyproject.toml) ... \u001b[?25l\u001b[?25hdone\n",
            "Requirement already satisfied: accelerate>=0.27.0 in /usr/local/lib/python3.11/dist-packages (from tuned-lens==0.2.0) (1.6.0)\n",
            "Collecting datasets>=2.17.1 (from tuned-lens==0.2.0)\n",
            "  Downloading datasets-3.5.1-py3-none-any.whl.metadata (19 kB)\n",
            "Requirement already satisfied: plotly>=5.13.1 in /usr/local/lib/python3.11/dist-packages (from tuned-lens==0.2.0) (5.24.1)\n",
            "Collecting torchdata>=0.6.0 (from tuned-lens==0.2.0)\n",
            "  Downloading torchdata-0.11.0-py3-none-any.whl.metadata (6.3 kB)\n",
            "Requirement already satisfied: torch!=2.3.0,>=2.0 in /usr/local/lib/python3.11/dist-packages (from tuned-lens==0.2.0) (2.6.0+cu124)\n",
            "Requirement already satisfied: transformers>=4.38.1 in /usr/local/lib/python3.11/dist-packages (from tuned-lens==0.2.0) (4.51.3)\n",
            "Requirement already satisfied: huggingface_hub>=0.16.4 in /usr/local/lib/python3.11/dist-packages (from tuned-lens==0.2.0) (0.30.2)\n",
            "Requirement already satisfied: simple-parsing>=0.1.4 in /usr/local/lib/python3.11/dist-packages (from tuned-lens==0.2.0) (0.1.7)\n",
            "Collecting flatten-dict>=0.4.1 (from tuned-lens==0.2.0)\n",
            "  Downloading flatten_dict-0.4.2-py2.py3-none-any.whl.metadata (9.2 kB)\n",
            "Requirement already satisfied: wandb>=0.15.0 in /usr/local/lib/python3.11/dist-packages (from tuned-lens==0.2.0) (0.19.10)\n",
            "Collecting pre-commit (from tuned-lens==0.2.0)\n",
            "  Downloading pre_commit-4.2.0-py2.py3-none-any.whl.metadata (1.3 kB)\n",
            "Collecting bump2version (from tuned-lens==0.2.0)\n",
            "  Downloading bump2version-1.0.1-py2.py3-none-any.whl.metadata (17 kB)\n",
            "Collecting pytest-skip-slow (from tuned-lens==0.2.0)\n",
            "  Downloading pytest_skip_slow-0.0.5-py3-none-any.whl.metadata (2.1 kB)\n",
            "Requirement already satisfied: pytest in /usr/local/lib/python3.11/dist-packages (from tuned-lens==0.2.0) (8.3.5)\n",
            "Requirement already satisfied: numpy<3.0.0,>=1.17 in /usr/local/lib/python3.11/dist-packages (from accelerate>=0.27.0->tuned-lens==0.2.0) (2.0.2)\n",
            "Requirement already satisfied: packaging>=20.0 in /usr/local/lib/python3.11/dist-packages (from accelerate>=0.27.0->tuned-lens==0.2.0) (24.2)\n",
            "Requirement already satisfied: psutil in /usr/local/lib/python3.11/dist-packages (from accelerate>=0.27.0->tuned-lens==0.2.0) (5.9.5)\n",
            "Requirement already satisfied: pyyaml in /usr/local/lib/python3.11/dist-packages (from accelerate>=0.27.0->tuned-lens==0.2.0) (6.0.2)\n",
            "Requirement already satisfied: safetensors>=0.4.3 in /usr/local/lib/python3.11/dist-packages (from accelerate>=0.27.0->tuned-lens==0.2.0) (0.5.3)\n",
            "Requirement already satisfied: filelock in /usr/local/lib/python3.11/dist-packages (from datasets>=2.17.1->tuned-lens==0.2.0) (3.18.0)\n",
            "Requirement already satisfied: pyarrow>=15.0.0 in /usr/local/lib/python3.11/dist-packages (from datasets>=2.17.1->tuned-lens==0.2.0) (18.1.0)\n",
            "Collecting dill<0.3.9,>=0.3.0 (from datasets>=2.17.1->tuned-lens==0.2.0)\n",
            "  Downloading dill-0.3.8-py3-none-any.whl.metadata (10 kB)\n",
            "Requirement already satisfied: pandas in /usr/local/lib/python3.11/dist-packages (from datasets>=2.17.1->tuned-lens==0.2.0) (2.2.2)\n",
            "Requirement already satisfied: requests>=2.32.2 in /usr/local/lib/python3.11/dist-packages (from datasets>=2.17.1->tuned-lens==0.2.0) (2.32.3)\n",
            "Requirement already satisfied: tqdm>=4.66.3 in /usr/local/lib/python3.11/dist-packages (from datasets>=2.17.1->tuned-lens==0.2.0) (4.67.1)\n",
            "Collecting xxhash (from datasets>=2.17.1->tuned-lens==0.2.0)\n",
            "  Downloading xxhash-3.5.0-cp311-cp311-manylinux_2_17_x86_64.manylinux2014_x86_64.whl.metadata (12 kB)\n",
            "Collecting multiprocess<0.70.17 (from datasets>=2.17.1->tuned-lens==0.2.0)\n",
            "  Downloading multiprocess-0.70.16-py311-none-any.whl.metadata (7.2 kB)\n",
            "Collecting fsspec<=2025.3.0,>=2023.1.0 (from fsspec[http]<=2025.3.0,>=2023.1.0->datasets>=2.17.1->tuned-lens==0.2.0)\n",
            "  Downloading fsspec-2025.3.0-py3-none-any.whl.metadata (11 kB)\n",
            "Requirement already satisfied: aiohttp in /usr/local/lib/python3.11/dist-packages (from datasets>=2.17.1->tuned-lens==0.2.0) (3.11.15)\n",
            "Requirement already satisfied: six<2.0,>=1.12 in /usr/local/lib/python3.11/dist-packages (from flatten-dict>=0.4.1->tuned-lens==0.2.0) (1.17.0)\n",
            "Requirement already satisfied: typing-extensions>=3.7.4.3 in /usr/local/lib/python3.11/dist-packages (from huggingface_hub>=0.16.4->tuned-lens==0.2.0) (4.13.2)\n",
            "Requirement already satisfied: tenacity>=6.2.0 in /usr/local/lib/python3.11/dist-packages (from plotly>=5.13.1->tuned-lens==0.2.0) (9.1.2)\n",
            "Requirement already satisfied: docstring-parser<1.0,>=0.15 in /usr/local/lib/python3.11/dist-packages (from simple-parsing>=0.1.4->tuned-lens==0.2.0) (0.16)\n",
            "Requirement already satisfied: networkx in /usr/local/lib/python3.11/dist-packages (from torch!=2.3.0,>=2.0->tuned-lens==0.2.0) (3.4.2)\n",
            "Requirement already satisfied: jinja2 in /usr/local/lib/python3.11/dist-packages (from torch!=2.3.0,>=2.0->tuned-lens==0.2.0) (3.1.6)\n",
            "Collecting nvidia-cuda-nvrtc-cu12==12.4.127 (from torch!=2.3.0,>=2.0->tuned-lens==0.2.0)\n",
            "  Downloading nvidia_cuda_nvrtc_cu12-12.4.127-py3-none-manylinux2014_x86_64.whl.metadata (1.5 kB)\n",
            "Collecting nvidia-cuda-runtime-cu12==12.4.127 (from torch!=2.3.0,>=2.0->tuned-lens==0.2.0)\n",
            "  Downloading nvidia_cuda_runtime_cu12-12.4.127-py3-none-manylinux2014_x86_64.whl.metadata (1.5 kB)\n",
            "Collecting nvidia-cuda-cupti-cu12==12.4.127 (from torch!=2.3.0,>=2.0->tuned-lens==0.2.0)\n",
            "  Downloading nvidia_cuda_cupti_cu12-12.4.127-py3-none-manylinux2014_x86_64.whl.metadata (1.6 kB)\n",
            "Collecting nvidia-cudnn-cu12==9.1.0.70 (from torch!=2.3.0,>=2.0->tuned-lens==0.2.0)\n",
            "  Downloading nvidia_cudnn_cu12-9.1.0.70-py3-none-manylinux2014_x86_64.whl.metadata (1.6 kB)\n",
            "Collecting nvidia-cublas-cu12==12.4.5.8 (from torch!=2.3.0,>=2.0->tuned-lens==0.2.0)\n",
            "  Downloading nvidia_cublas_cu12-12.4.5.8-py3-none-manylinux2014_x86_64.whl.metadata (1.5 kB)\n",
            "Collecting nvidia-cufft-cu12==11.2.1.3 (from torch!=2.3.0,>=2.0->tuned-lens==0.2.0)\n",
            "  Downloading nvidia_cufft_cu12-11.2.1.3-py3-none-manylinux2014_x86_64.whl.metadata (1.5 kB)\n",
            "Collecting nvidia-curand-cu12==10.3.5.147 (from torch!=2.3.0,>=2.0->tuned-lens==0.2.0)\n",
            "  Downloading nvidia_curand_cu12-10.3.5.147-py3-none-manylinux2014_x86_64.whl.metadata (1.5 kB)\n",
            "Collecting nvidia-cusolver-cu12==11.6.1.9 (from torch!=2.3.0,>=2.0->tuned-lens==0.2.0)\n",
            "  Downloading nvidia_cusolver_cu12-11.6.1.9-py3-none-manylinux2014_x86_64.whl.metadata (1.6 kB)\n",
            "Collecting nvidia-cusparse-cu12==12.3.1.170 (from torch!=2.3.0,>=2.0->tuned-lens==0.2.0)\n",
            "  Downloading nvidia_cusparse_cu12-12.3.1.170-py3-none-manylinux2014_x86_64.whl.metadata (1.6 kB)\n",
            "Requirement already satisfied: nvidia-cusparselt-cu12==0.6.2 in /usr/local/lib/python3.11/dist-packages (from torch!=2.3.0,>=2.0->tuned-lens==0.2.0) (0.6.2)\n",
            "Requirement already satisfied: nvidia-nccl-cu12==2.21.5 in /usr/local/lib/python3.11/dist-packages (from torch!=2.3.0,>=2.0->tuned-lens==0.2.0) (2.21.5)\n",
            "Requirement already satisfied: nvidia-nvtx-cu12==12.4.127 in /usr/local/lib/python3.11/dist-packages (from torch!=2.3.0,>=2.0->tuned-lens==0.2.0) (12.4.127)\n",
            "Collecting nvidia-nvjitlink-cu12==12.4.127 (from torch!=2.3.0,>=2.0->tuned-lens==0.2.0)\n",
            "  Downloading nvidia_nvjitlink_cu12-12.4.127-py3-none-manylinux2014_x86_64.whl.metadata (1.5 kB)\n",
            "Requirement already satisfied: triton==3.2.0 in /usr/local/lib/python3.11/dist-packages (from torch!=2.3.0,>=2.0->tuned-lens==0.2.0) (3.2.0)\n",
            "Requirement already satisfied: sympy==1.13.1 in /usr/local/lib/python3.11/dist-packages (from torch!=2.3.0,>=2.0->tuned-lens==0.2.0) (1.13.1)\n",
            "Requirement already satisfied: mpmath<1.4,>=1.1.0 in /usr/local/lib/python3.11/dist-packages (from sympy==1.13.1->torch!=2.3.0,>=2.0->tuned-lens==0.2.0) (1.3.0)\n",
            "Requirement already satisfied: urllib3>=1.25 in /usr/local/lib/python3.11/dist-packages (from torchdata>=0.6.0->tuned-lens==0.2.0) (2.4.0)\n",
            "Requirement already satisfied: regex!=2019.12.17 in /usr/local/lib/python3.11/dist-packages (from transformers>=4.38.1->tuned-lens==0.2.0) (2024.11.6)\n",
            "Requirement already satisfied: tokenizers<0.22,>=0.21 in /usr/local/lib/python3.11/dist-packages (from transformers>=4.38.1->tuned-lens==0.2.0) (0.21.1)\n",
            "Requirement already satisfied: click!=8.0.0,>=7.1 in /usr/local/lib/python3.11/dist-packages (from wandb>=0.15.0->tuned-lens==0.2.0) (8.1.8)\n",
            "Requirement already satisfied: docker-pycreds>=0.4.0 in /usr/local/lib/python3.11/dist-packages (from wandb>=0.15.0->tuned-lens==0.2.0) (0.4.0)\n",
            "Requirement already satisfied: gitpython!=3.1.29,>=1.0.0 in /usr/local/lib/python3.11/dist-packages (from wandb>=0.15.0->tuned-lens==0.2.0) (3.1.44)\n",
            "Requirement already satisfied: platformdirs in /usr/local/lib/python3.11/dist-packages (from wandb>=0.15.0->tuned-lens==0.2.0) (4.3.7)\n",
            "Requirement already satisfied: protobuf!=4.21.0,!=5.28.0,<7,>=3.19.0 in /usr/local/lib/python3.11/dist-packages (from wandb>=0.15.0->tuned-lens==0.2.0) (5.29.4)\n",
            "Requirement already satisfied: pydantic<3 in /usr/local/lib/python3.11/dist-packages (from wandb>=0.15.0->tuned-lens==0.2.0) (2.11.4)\n",
            "Requirement already satisfied: sentry-sdk>=2.0.0 in /usr/local/lib/python3.11/dist-packages (from wandb>=0.15.0->tuned-lens==0.2.0) (2.27.0)\n",
            "Requirement already satisfied: setproctitle in /usr/local/lib/python3.11/dist-packages (from wandb>=0.15.0->tuned-lens==0.2.0) (1.3.6)\n",
            "Requirement already satisfied: setuptools in /usr/local/lib/python3.11/dist-packages (from wandb>=0.15.0->tuned-lens==0.2.0) (75.2.0)\n",
            "Collecting cfgv>=2.0.0 (from pre-commit->tuned-lens==0.2.0)\n",
            "  Downloading cfgv-3.4.0-py2.py3-none-any.whl.metadata (8.5 kB)\n",
            "Collecting identify>=1.0.0 (from pre-commit->tuned-lens==0.2.0)\n",
            "  Downloading identify-2.6.10-py2.py3-none-any.whl.metadata (4.4 kB)\n",
            "Collecting nodeenv>=0.11.1 (from pre-commit->tuned-lens==0.2.0)\n",
            "  Downloading nodeenv-1.9.1-py2.py3-none-any.whl.metadata (21 kB)\n",
            "Collecting virtualenv>=20.10.0 (from pre-commit->tuned-lens==0.2.0)\n",
            "  Downloading virtualenv-20.31.1-py3-none-any.whl.metadata (4.5 kB)\n",
            "Requirement already satisfied: iniconfig in /usr/local/lib/python3.11/dist-packages (from pytest->tuned-lens==0.2.0) (2.1.0)\n",
            "Requirement already satisfied: pluggy<2,>=1.5 in /usr/local/lib/python3.11/dist-packages (from pytest->tuned-lens==0.2.0) (1.5.0)\n",
            "Requirement already satisfied: aiohappyeyeballs>=2.3.0 in /usr/local/lib/python3.11/dist-packages (from aiohttp->datasets>=2.17.1->tuned-lens==0.2.0) (2.6.1)\n",
            "Requirement already satisfied: aiosignal>=1.1.2 in /usr/local/lib/python3.11/dist-packages (from aiohttp->datasets>=2.17.1->tuned-lens==0.2.0) (1.3.2)\n",
            "Requirement already satisfied: attrs>=17.3.0 in /usr/local/lib/python3.11/dist-packages (from aiohttp->datasets>=2.17.1->tuned-lens==0.2.0) (25.3.0)\n",
            "Requirement already satisfied: frozenlist>=1.1.1 in /usr/local/lib/python3.11/dist-packages (from aiohttp->datasets>=2.17.1->tuned-lens==0.2.0) (1.6.0)\n",
            "Requirement already satisfied: multidict<7.0,>=4.5 in /usr/local/lib/python3.11/dist-packages (from aiohttp->datasets>=2.17.1->tuned-lens==0.2.0) (6.4.3)\n",
            "Requirement already satisfied: propcache>=0.2.0 in /usr/local/lib/python3.11/dist-packages (from aiohttp->datasets>=2.17.1->tuned-lens==0.2.0) (0.3.1)\n",
            "Requirement already satisfied: yarl<2.0,>=1.17.0 in /usr/local/lib/python3.11/dist-packages (from aiohttp->datasets>=2.17.1->tuned-lens==0.2.0) (1.20.0)\n",
            "Requirement already satisfied: gitdb<5,>=4.0.1 in /usr/local/lib/python3.11/dist-packages (from gitpython!=3.1.29,>=1.0.0->wandb>=0.15.0->tuned-lens==0.2.0) (4.0.12)\n",
            "Requirement already satisfied: annotated-types>=0.6.0 in /usr/local/lib/python3.11/dist-packages (from pydantic<3->wandb>=0.15.0->tuned-lens==0.2.0) (0.7.0)\n",
            "Requirement already satisfied: pydantic-core==2.33.2 in /usr/local/lib/python3.11/dist-packages (from pydantic<3->wandb>=0.15.0->tuned-lens==0.2.0) (2.33.2)\n",
            "Requirement already satisfied: typing-inspection>=0.4.0 in /usr/local/lib/python3.11/dist-packages (from pydantic<3->wandb>=0.15.0->tuned-lens==0.2.0) (0.4.0)\n",
            "Requirement already satisfied: charset-normalizer<4,>=2 in /usr/local/lib/python3.11/dist-packages (from requests>=2.32.2->datasets>=2.17.1->tuned-lens==0.2.0) (3.4.1)\n",
            "Requirement already satisfied: idna<4,>=2.5 in /usr/local/lib/python3.11/dist-packages (from requests>=2.32.2->datasets>=2.17.1->tuned-lens==0.2.0) (3.10)\n",
            "Requirement already satisfied: certifi>=2017.4.17 in /usr/local/lib/python3.11/dist-packages (from requests>=2.32.2->datasets>=2.17.1->tuned-lens==0.2.0) (2025.4.26)\n",
            "Collecting distlib<1,>=0.3.7 (from virtualenv>=20.10.0->pre-commit->tuned-lens==0.2.0)\n",
            "  Downloading distlib-0.3.9-py2.py3-none-any.whl.metadata (5.2 kB)\n",
            "Requirement already satisfied: MarkupSafe>=2.0 in /usr/local/lib/python3.11/dist-packages (from jinja2->torch!=2.3.0,>=2.0->tuned-lens==0.2.0) (3.0.2)\n",
            "Requirement already satisfied: python-dateutil>=2.8.2 in /usr/local/lib/python3.11/dist-packages (from pandas->datasets>=2.17.1->tuned-lens==0.2.0) (2.9.0.post0)\n",
            "Requirement already satisfied: pytz>=2020.1 in /usr/local/lib/python3.11/dist-packages (from pandas->datasets>=2.17.1->tuned-lens==0.2.0) (2025.2)\n",
            "Requirement already satisfied: tzdata>=2022.7 in /usr/local/lib/python3.11/dist-packages (from pandas->datasets>=2.17.1->tuned-lens==0.2.0) (2025.2)\n",
            "Requirement already satisfied: smmap<6,>=3.0.1 in /usr/local/lib/python3.11/dist-packages (from gitdb<5,>=4.0.1->gitpython!=3.1.29,>=1.0.0->wandb>=0.15.0->tuned-lens==0.2.0) (5.0.2)\n",
            "Downloading datasets-3.5.1-py3-none-any.whl (491 kB)\n",
            "\u001b[2K   \u001b[90m━━━━━━━━━━━━━━━━━━━━━━━━━━━━━━━━━━━━━━━━\u001b[0m \u001b[32m491.4/491.4 kB\u001b[0m \u001b[31m16.7 MB/s\u001b[0m eta \u001b[36m0:00:00\u001b[0m\n",
            "\u001b[?25hDownloading flatten_dict-0.4.2-py2.py3-none-any.whl (9.7 kB)\n",
            "Downloading nvidia_cublas_cu12-12.4.5.8-py3-none-manylinux2014_x86_64.whl (363.4 MB)\n",
            "\u001b[2K   \u001b[90m━━━━━━━━━━━━━━━━━━━━━━━━━━━━━━━━━━━━━━━━\u001b[0m \u001b[32m363.4/363.4 MB\u001b[0m \u001b[31m1.6 MB/s\u001b[0m eta \u001b[36m0:00:00\u001b[0m\n",
            "\u001b[?25hDownloading nvidia_cuda_cupti_cu12-12.4.127-py3-none-manylinux2014_x86_64.whl (13.8 MB)\n",
            "\u001b[2K   \u001b[90m━━━━━━━━━━━━━━━━━━━━━━━━━━━━━━━━━━━━━━━━\u001b[0m \u001b[32m13.8/13.8 MB\u001b[0m \u001b[31m124.7 MB/s\u001b[0m eta \u001b[36m0:00:00\u001b[0m\n",
            "\u001b[?25hDownloading nvidia_cuda_nvrtc_cu12-12.4.127-py3-none-manylinux2014_x86_64.whl (24.6 MB)\n",
            "\u001b[2K   \u001b[90m━━━━━━━━━━━━━━━━━━━━━━━━━━━━━━━━━━━━━━━━\u001b[0m \u001b[32m24.6/24.6 MB\u001b[0m \u001b[31m101.0 MB/s\u001b[0m eta \u001b[36m0:00:00\u001b[0m\n",
            "\u001b[?25hDownloading nvidia_cuda_runtime_cu12-12.4.127-py3-none-manylinux2014_x86_64.whl (883 kB)\n",
            "\u001b[2K   \u001b[90m━━━━━━━━━━━━━━━━━━━━━━━━━━━━━━━━━━━━━━━━\u001b[0m \u001b[32m883.7/883.7 kB\u001b[0m \u001b[31m67.5 MB/s\u001b[0m eta \u001b[36m0:00:00\u001b[0m\n",
            "\u001b[?25hDownloading nvidia_cudnn_cu12-9.1.0.70-py3-none-manylinux2014_x86_64.whl (664.8 MB)\n",
            "\u001b[2K   \u001b[90m━━━━━━━━━━━━━━━━━━━━━━━━━━━━━━━━━━━━━━━━\u001b[0m \u001b[32m664.8/664.8 MB\u001b[0m \u001b[31m2.4 MB/s\u001b[0m eta \u001b[36m0:00:00\u001b[0m\n",
            "\u001b[?25hDownloading nvidia_cufft_cu12-11.2.1.3-py3-none-manylinux2014_x86_64.whl (211.5 MB)\n",
            "\u001b[2K   \u001b[90m━━━━━━━━━━━━━━━━━━━━━━━━━━━━━━━━━━━━━━━━\u001b[0m \u001b[32m211.5/211.5 MB\u001b[0m \u001b[31m5.6 MB/s\u001b[0m eta \u001b[36m0:00:00\u001b[0m\n",
            "\u001b[?25hDownloading nvidia_curand_cu12-10.3.5.147-py3-none-manylinux2014_x86_64.whl (56.3 MB)\n",
            "\u001b[2K   \u001b[90m━━━━━━━━━━━━━━━━━━━━━━━━━━━━━━━━━━━━━━━━\u001b[0m \u001b[32m56.3/56.3 MB\u001b[0m \u001b[31m14.7 MB/s\u001b[0m eta \u001b[36m0:00:00\u001b[0m\n",
            "\u001b[?25hDownloading nvidia_cusolver_cu12-11.6.1.9-py3-none-manylinux2014_x86_64.whl (127.9 MB)\n",
            "\u001b[2K   \u001b[90m━━━━━━━━━━━━━━━━━━━━━━━━━━━━━━━━━━━━━━━━\u001b[0m \u001b[32m127.9/127.9 MB\u001b[0m \u001b[31m8.3 MB/s\u001b[0m eta \u001b[36m0:00:00\u001b[0m\n",
            "\u001b[?25hDownloading nvidia_cusparse_cu12-12.3.1.170-py3-none-manylinux2014_x86_64.whl (207.5 MB)\n",
            "\u001b[2K   \u001b[90m━━━━━━━━━━━━━━━━━━━━━━━━━━━━━━━━━━━━━━━━\u001b[0m \u001b[32m207.5/207.5 MB\u001b[0m \u001b[31m5.7 MB/s\u001b[0m eta \u001b[36m0:00:00\u001b[0m\n",
            "\u001b[?25hDownloading nvidia_nvjitlink_cu12-12.4.127-py3-none-manylinux2014_x86_64.whl (21.1 MB)\n",
            "\u001b[2K   \u001b[90m━━━━━━━━━━━━━━━━━━━━━━━━━━━━━━━━━━━━━━━━\u001b[0m \u001b[32m21.1/21.1 MB\u001b[0m \u001b[31m104.3 MB/s\u001b[0m eta \u001b[36m0:00:00\u001b[0m\n",
            "\u001b[?25hDownloading torchdata-0.11.0-py3-none-any.whl (61 kB)\n",
            "\u001b[2K   \u001b[90m━━━━━━━━━━━━━━━━━━━━━━━━━━━━━━━━━━━━━━━━\u001b[0m \u001b[32m62.0/62.0 kB\u001b[0m \u001b[31m5.1 MB/s\u001b[0m eta \u001b[36m0:00:00\u001b[0m\n",
            "\u001b[?25hDownloading bump2version-1.0.1-py2.py3-none-any.whl (22 kB)\n",
            "Downloading pre_commit-4.2.0-py2.py3-none-any.whl (220 kB)\n",
            "\u001b[2K   \u001b[90m━━━━━━━━━━━━━━━━━━━━━━━━━━━━━━━━━━━━━━━━\u001b[0m \u001b[32m220.7/220.7 kB\u001b[0m \u001b[31m22.1 MB/s\u001b[0m eta \u001b[36m0:00:00\u001b[0m\n",
            "\u001b[?25hDownloading pytest_skip_slow-0.0.5-py3-none-any.whl (3.0 kB)\n",
            "Downloading cfgv-3.4.0-py2.py3-none-any.whl (7.2 kB)\n",
            "Downloading dill-0.3.8-py3-none-any.whl (116 kB)\n",
            "\u001b[2K   \u001b[90m━━━━━━━━━━━━━━━━━━━━━━━━━━━━━━━━━━━━━━━━\u001b[0m \u001b[32m116.3/116.3 kB\u001b[0m \u001b[31m12.1 MB/s\u001b[0m eta \u001b[36m0:00:00\u001b[0m\n",
            "\u001b[?25hDownloading fsspec-2025.3.0-py3-none-any.whl (193 kB)\n",
            "\u001b[2K   \u001b[90m━━━━━━━━━━━━━━━━━━━━━━━━━━━━━━━━━━━━━━━━\u001b[0m \u001b[32m193.6/193.6 kB\u001b[0m \u001b[31m19.7 MB/s\u001b[0m eta \u001b[36m0:00:00\u001b[0m\n",
            "\u001b[?25hDownloading identify-2.6.10-py2.py3-none-any.whl (99 kB)\n",
            "\u001b[2K   \u001b[90m━━━━━━━━━━━━━━━━━━━━━━━━━━━━━━━━━━━━━━━━\u001b[0m \u001b[32m99.1/99.1 kB\u001b[0m \u001b[31m11.6 MB/s\u001b[0m eta \u001b[36m0:00:00\u001b[0m\n",
            "\u001b[?25hDownloading multiprocess-0.70.16-py311-none-any.whl (143 kB)\n",
            "\u001b[2K   \u001b[90m━━━━━━━━━━━━━━━━━━━━━━━━━━━━━━━━━━━━━━━━\u001b[0m \u001b[32m143.5/143.5 kB\u001b[0m \u001b[31m16.2 MB/s\u001b[0m eta \u001b[36m0:00:00\u001b[0m\n",
            "\u001b[?25hDownloading nodeenv-1.9.1-py2.py3-none-any.whl (22 kB)\n",
            "Downloading virtualenv-20.31.1-py3-none-any.whl (6.1 MB)\n",
            "\u001b[2K   \u001b[90m━━━━━━━━━━━━━━━━━━━━━━━━━━━━━━━━━━━━━━━━\u001b[0m \u001b[32m6.1/6.1 MB\u001b[0m \u001b[31m117.0 MB/s\u001b[0m eta \u001b[36m0:00:00\u001b[0m\n",
            "\u001b[?25hDownloading xxhash-3.5.0-cp311-cp311-manylinux_2_17_x86_64.manylinux2014_x86_64.whl (194 kB)\n",
            "\u001b[2K   \u001b[90m━━━━━━━━━━━━━━━━━━━━━━━━━━━━━━━━━━━━━━━━\u001b[0m \u001b[32m194.8/194.8 kB\u001b[0m \u001b[31m20.7 MB/s\u001b[0m eta \u001b[36m0:00:00\u001b[0m\n",
            "\u001b[?25hDownloading distlib-0.3.9-py2.py3-none-any.whl (468 kB)\n",
            "\u001b[2K   \u001b[90m━━━━━━━━━━━━━━━━━━━━━━━━━━━━━━━━━━━━━━━━\u001b[0m \u001b[32m469.0/469.0 kB\u001b[0m \u001b[31m42.4 MB/s\u001b[0m eta \u001b[36m0:00:00\u001b[0m\n",
            "\u001b[?25hBuilding wheels for collected packages: tuned-lens\n",
            "  Building editable for tuned-lens (pyproject.toml) ... \u001b[?25l\u001b[?25hdone\n",
            "  Created wheel for tuned-lens: filename=tuned_lens-0.2.0-0.editable-py3-none-any.whl size=6138 sha256=ab059776ce40520c6d3eb791895f86a380056032c4b1f498dcdce1b5b976bbac\n",
            "  Stored in directory: /tmp/pip-ephem-wheel-cache-opj82uqu/wheels/55/1d/9c/3dcec048b9be276d0c10c21853435b9a12de60e343bdd93e6a\n",
            "Successfully built tuned-lens\n",
            "Installing collected packages: distlib, xxhash, virtualenv, nvidia-nvjitlink-cu12, nvidia-curand-cu12, nvidia-cufft-cu12, nvidia-cuda-runtime-cu12, nvidia-cuda-nvrtc-cu12, nvidia-cuda-cupti-cu12, nvidia-cublas-cu12, nodeenv, identify, fsspec, flatten-dict, dill, cfgv, bump2version, pytest-skip-slow, pre-commit, nvidia-cusparse-cu12, nvidia-cudnn-cu12, multiprocess, nvidia-cusolver-cu12, datasets, torchdata, tuned-lens\n",
            "  Attempting uninstall: nvidia-nvjitlink-cu12\n",
            "    Found existing installation: nvidia-nvjitlink-cu12 12.5.82\n",
            "    Uninstalling nvidia-nvjitlink-cu12-12.5.82:\n",
            "      Successfully uninstalled nvidia-nvjitlink-cu12-12.5.82\n",
            "  Attempting uninstall: nvidia-curand-cu12\n",
            "    Found existing installation: nvidia-curand-cu12 10.3.6.82\n",
            "    Uninstalling nvidia-curand-cu12-10.3.6.82:\n",
            "      Successfully uninstalled nvidia-curand-cu12-10.3.6.82\n",
            "  Attempting uninstall: nvidia-cufft-cu12\n",
            "    Found existing installation: nvidia-cufft-cu12 11.2.3.61\n",
            "    Uninstalling nvidia-cufft-cu12-11.2.3.61:\n",
            "      Successfully uninstalled nvidia-cufft-cu12-11.2.3.61\n",
            "  Attempting uninstall: nvidia-cuda-runtime-cu12\n",
            "    Found existing installation: nvidia-cuda-runtime-cu12 12.5.82\n",
            "    Uninstalling nvidia-cuda-runtime-cu12-12.5.82:\n",
            "      Successfully uninstalled nvidia-cuda-runtime-cu12-12.5.82\n",
            "  Attempting uninstall: nvidia-cuda-nvrtc-cu12\n",
            "    Found existing installation: nvidia-cuda-nvrtc-cu12 12.5.82\n",
            "    Uninstalling nvidia-cuda-nvrtc-cu12-12.5.82:\n",
            "      Successfully uninstalled nvidia-cuda-nvrtc-cu12-12.5.82\n",
            "  Attempting uninstall: nvidia-cuda-cupti-cu12\n",
            "    Found existing installation: nvidia-cuda-cupti-cu12 12.5.82\n",
            "    Uninstalling nvidia-cuda-cupti-cu12-12.5.82:\n",
            "      Successfully uninstalled nvidia-cuda-cupti-cu12-12.5.82\n",
            "  Attempting uninstall: nvidia-cublas-cu12\n",
            "    Found existing installation: nvidia-cublas-cu12 12.5.3.2\n",
            "    Uninstalling nvidia-cublas-cu12-12.5.3.2:\n",
            "      Successfully uninstalled nvidia-cublas-cu12-12.5.3.2\n",
            "  Attempting uninstall: fsspec\n",
            "    Found existing installation: fsspec 2025.3.2\n",
            "    Uninstalling fsspec-2025.3.2:\n",
            "      Successfully uninstalled fsspec-2025.3.2\n",
            "  Attempting uninstall: nvidia-cusparse-cu12\n",
            "    Found existing installation: nvidia-cusparse-cu12 12.5.1.3\n",
            "    Uninstalling nvidia-cusparse-cu12-12.5.1.3:\n",
            "      Successfully uninstalled nvidia-cusparse-cu12-12.5.1.3\n",
            "  Attempting uninstall: nvidia-cudnn-cu12\n",
            "    Found existing installation: nvidia-cudnn-cu12 9.3.0.75\n",
            "    Uninstalling nvidia-cudnn-cu12-9.3.0.75:\n",
            "      Successfully uninstalled nvidia-cudnn-cu12-9.3.0.75\n",
            "  Attempting uninstall: nvidia-cusolver-cu12\n",
            "    Found existing installation: nvidia-cusolver-cu12 11.6.3.83\n",
            "    Uninstalling nvidia-cusolver-cu12-11.6.3.83:\n",
            "      Successfully uninstalled nvidia-cusolver-cu12-11.6.3.83\n",
            "\u001b[31mERROR: pip's dependency resolver does not currently take into account all the packages that are installed. This behaviour is the source of the following dependency conflicts.\n",
            "gcsfs 2025.3.2 requires fsspec==2025.3.2, but you have fsspec 2025.3.0 which is incompatible.\u001b[0m\u001b[31m\n",
            "\u001b[0mSuccessfully installed bump2version-1.0.1 cfgv-3.4.0 datasets-3.5.1 dill-0.3.8 distlib-0.3.9 flatten-dict-0.4.2 fsspec-2025.3.0 identify-2.6.10 multiprocess-0.70.16 nodeenv-1.9.1 nvidia-cublas-cu12-12.4.5.8 nvidia-cuda-cupti-cu12-12.4.127 nvidia-cuda-nvrtc-cu12-12.4.127 nvidia-cuda-runtime-cu12-12.4.127 nvidia-cudnn-cu12-9.1.0.70 nvidia-cufft-cu12-11.2.1.3 nvidia-curand-cu12-10.3.5.147 nvidia-cusolver-cu12-11.6.1.9 nvidia-cusparse-cu12-12.3.1.170 nvidia-nvjitlink-cu12-12.4.127 pre-commit-4.2.0 pytest-skip-slow-0.0.5 torchdata-0.11.0 tuned-lens-0.2.0 virtualenv-20.31.1 xxhash-3.5.0\n"
          ]
        },
        {
          "output_type": "display_data",
          "data": {
            "application/vnd.colab-display-data+json": {
              "pip_warning": {
                "packages": [
                  "nvidia"
                ]
              },
              "id": "53a9d57bf40a487db8c7a006149b2564"
            }
          },
          "metadata": {}
        },
        {
          "output_type": "stream",
          "name": "stdout",
          "text": [
            "pre-commit installed at .git/hooks/pre-commit\n",
            "Collecting torchdata==0.8.0\n",
            "  Downloading torchdata-0.8.0-cp311-cp311-manylinux1_x86_64.whl.metadata (5.4 kB)\n",
            "Downloading torchdata-0.8.0-cp311-cp311-manylinux1_x86_64.whl (2.7 MB)\n",
            "\u001b[2K   \u001b[90m━━━━━━━━━━━━━━━━━━━━━━━━━━━━━━━━━━━━━━━━\u001b[0m \u001b[32m2.7/2.7 MB\u001b[0m \u001b[31m39.4 MB/s\u001b[0m eta \u001b[36m0:00:00\u001b[0m\n",
            "\u001b[?25hInstalling collected packages: torchdata\n",
            "  Attempting uninstall: torchdata\n",
            "    Found existing installation: torchdata 0.11.0\n",
            "    Uninstalling torchdata-0.11.0:\n",
            "      Successfully uninstalled torchdata-0.11.0\n",
            "Successfully installed torchdata-0.8.0\n",
            "\u001b[31mERROR: /content/tuned-lens is not a valid editable requirement. It should either be a path to a local project or a VCS URL (beginning with bzr+http, bzr+https, bzr+ssh, bzr+sftp, bzr+ftp, bzr+lp, bzr+file, git+http, git+https, git+ssh, git+git, git+file, hg+file, hg+http, hg+https, hg+ssh, hg+static-http, svn+ssh, svn+http, svn+https, svn+svn, svn+file).\u001b[0m\u001b[31m\n",
            "\u001b[0m"
          ]
        }
      ]
    },
    {
      "cell_type": "code",
      "source": [
        "%cd /content/gdrive/MyDrive/gpt2_sort/tuned-lens"
      ],
      "metadata": {
        "id": "F3Jmu7YBOBja",
        "outputId": "c3fd4e2a-b46d-4c65-b02e-9aac91c10998",
        "colab": {
          "base_uri": "https://localhost:8080/"
        }
      },
      "execution_count": 3,
      "outputs": [
        {
          "output_type": "stream",
          "name": "stdout",
          "text": [
            "/content/gdrive/.shortcut-targets-by-id/1qq_eRQ7sEnurJKWlZrToQexrkT_1JQJn/gpt2_sort/tuned-lens\n"
          ]
        }
      ]
    },
    {
      "cell_type": "code",
      "source": [
        "# @title Generate .jsonl file\n",
        "# Generate .jsonl file to satisfy tuned lens format\n",
        "import re, json\n",
        "\n",
        "# 1) tighter bracket-only capture, allow multiline\n",
        "pattern = re.compile(\n",
        "    r\"Input:\\s*\\[([^\\]]*)\\]\\s*Output:\\s*\\[([^\\]]*)\\]\",\n",
        "    re.DOTALL | re.MULTILINE\n",
        ")\n",
        "\n",
        "# 2) load\n",
        "with open(\"../sort_train_with_weight.txt\", \"r\") as f:\n",
        "    text = f.read()\n",
        "\n",
        "# 3) debug print\n",
        "# print(\"First 200 chars of file:\\n\", text[:200])\n",
        "# print(\"Matches found:\", len(pattern.findall(text)))\n",
        "\n",
        "# 4) write JSONL\n",
        "matches = list(pattern.finditer(text))\n",
        "if matches:\n",
        "    with open(\"sort_train_with_weight.jsonl\", \"w\") as fout:\n",
        "        for m in matches:\n",
        "            # inp  = [int(x) for x in m.group(1).split(',') if x.strip()]\n",
        "            # outp = [int(x) for x in m.group(2).split(',') if x.strip()]\n",
        "            # fout.write(json.dumps({\"input\": inp, \"output\": outp}) + \"\\n\")\n",
        "            fout.write(json.dumps({\"text\": m.group(0)}) + \"\\n\")\n",
        "    print(f\"Wrote {len(matches)} records to sort_train_with_weight.jsonl\")\n",
        "else:\n",
        "    print(\"No Input/Output blocks found—nothing written.\")\n"
      ],
      "metadata": {
        "id": "vitWKT2A1_dp",
        "outputId": "201ca2cf-bbbb-4cb5-c8bf-8a948aa076c6",
        "colab": {
          "base_uri": "https://localhost:8080/"
        }
      },
      "execution_count": 4,
      "outputs": [
        {
          "output_type": "stream",
          "name": "stdout",
          "text": [
            "Wrote 10000 records to sort_train_with_weight.jsonl\n"
          ]
        }
      ]
    },
    {
      "cell_type": "code",
      "source": [
        "# @title Check Torchdata Version\n",
        "# Make sure the version is 0.8.0\n",
        "import torchdata, tuned_lens\n",
        "from torchdata import dataloader2\n",
        "print(\"torchdata:\", torchdata.__version__)\n",
        "print(\"tuned_lens CLI ready!\")"
      ],
      "metadata": {
        "id": "ykd8qCXD2Q4q",
        "outputId": "8682dc95-f7bb-4e33-967c-d9d2fa20cf89",
        "colab": {
          "base_uri": "https://localhost:8080/"
        }
      },
      "execution_count": 5,
      "outputs": [
        {
          "output_type": "stream",
          "name": "stdout",
          "text": [
            "torchdata: 0.8.0+cpu\n",
            "tuned_lens CLI ready!\n"
          ]
        },
        {
          "output_type": "stream",
          "name": "stderr",
          "text": [
            "/usr/local/lib/python3.11/dist-packages/torchdata/datapipes/__init__.py:18: UserWarning: \n",
            "################################################################################\n",
            "WARNING!\n",
            "The 'datapipes', 'dataloader2' modules are deprecated and will be removed in a\n",
            "future torchdata release! Please see https://github.com/pytorch/data/issues/1196\n",
            "to learn more and leave feedback.\n",
            "################################################################################\n",
            "\n",
            "  deprecation_warning()\n"
          ]
        }
      ]
    },
    {
      "cell_type": "code",
      "source": [
        "!python -m tuned_lens train -h"
      ],
      "metadata": {
        "id": "BE9e9WKV2XAs",
        "outputId": "262c7f75-d418-4450-8c42-0db39f6b2ba7",
        "colab": {
          "base_uri": "https://localhost:8080/"
        }
      },
      "execution_count": 26,
      "outputs": [
        {
          "output_type": "stream",
          "name": "stdout",
          "text": [
            "2025-05-06 06:05:06.524359: E external/local_xla/xla/stream_executor/cuda/cuda_fft.cc:477] Unable to register cuFFT factory: Attempting to register factory for plugin cuFFT when one has already been registered\n",
            "WARNING: All log messages before absl::InitializeLog() is called are written to STDERR\n",
            "E0000 00:00:1746511506.557022    4888 cuda_dnn.cc:8310] Unable to register cuDNN factory: Attempting to register factory for plugin cuDNN when one has already been registered\n",
            "E0000 00:00:1746511506.567465    4888 cuda_blas.cc:1418] Unable to register cuBLAS factory: Attempting to register factory for plugin cuBLAS when one has already been registered\n",
            "/usr/local/lib/python3.11/dist-packages/torchdata/datapipes/__init__.py:18: UserWarning: \n",
            "################################################################################\n",
            "WARNING!\n",
            "The 'datapipes', 'dataloader2' modules are deprecated and will be removed in a\n",
            "future torchdata release! Please see https://github.com/pytorch/data/issues/1196\n",
            "to learn more and leave feedback.\n",
            "################################################################################\n",
            "\n",
            "  deprecation_warning()\n",
            "usage: __main__.py train [-h] -o Path [--seed int] [-l [str]] [--bias_only]\n",
            "                         [--num_steps int] [--tokens_per_step int]\n",
            "                         [--wandb [str]] [--token_shift [int]]\n",
            "                         [--checkpoint_freq [int]] [--checkpoint_dir [Path]]\n",
            "                         [--loss LossChoice] --model.name str\n",
            "                         [--precision {auto,bfloat16,float16,float32,int8}]\n",
            "                         [--model.revision str] [--slow_tokenizer]\n",
            "                         [--tokenizer [str]] [--tokenizer_type [str]]\n",
            "                         [--data.name list] [--split str] [--text_column str]\n",
            "                         [--data.revision [str]] [--max_seq_len int]\n",
            "                         [--dataset_shuffle bool] [--dataset_shuffle_seed int]\n",
            "                         [--weight_decay float] [--lr_scale float]\n",
            "                         [--momentum float] [--zero]\n",
            "                         [--optimizer OptimizerOption] [--warmup_steps [int]]\n",
            "                         [--fsdp] [--cpu_offload] [--nccl_timeout int]\n",
            "                         [--per_gpu_batch_size int]\n",
            "                         [--dataloader_shuffle bool]\n",
            "\n",
            "options:\n",
            "  -h, --help            show this help message and exit\n",
            "\n",
            "Train ['prog.command']:\n",
            "  Training loop for the tuned lens.\n",
            "\n",
            "  -o Path, --output Path\n",
            "                        Directory to save the lenses to. (default: None)\n",
            "  --seed int            Random seed for data shuffling. (default: 42)\n",
            "  -l [str], --lens_name_or_path [str]\n",
            "                        Name of a pretrained lens to load for fine-tuning.\n",
            "                        (default: None)\n",
            "  --bias_only           Train only the bias term. (default: False)\n",
            "  --num_steps int       Number of training steps. (default: 250)\n",
            "  --tokens_per_step int\n",
            "                        Number of tokens per step. (default: 262144)\n",
            "  --wandb [str]         Name of run in Weights & Biases. (default: None)\n",
            "  --token_shift [int]   How to shift the labels wrt the input tokens (1 = next\n",
            "                        token, 0 = current token, -1 = previous token, etc.)\n",
            "                        (default: None)\n",
            "  --checkpoint_freq [int]\n",
            "                        Steps between saving a checkpoint. If None, no\n",
            "                        checkpoints are saved. (default: None)\n",
            "  --checkpoint_dir [Path]\n",
            "                        Directory to save checkpoints to. If None, will use\n",
            "                        <output>/checkpoints. (default: None)\n",
            "  --loss LossChoice     Loss function to use. (default: KL)\n",
            "\n",
            "Model ['prog.command.model']:\n",
            "  Model configuration.\n",
            "\n",
            "  --model.name str      Name of model to use in the Huggingface Hub. (default:\n",
            "                        None)\n",
            "  --precision {auto,bfloat16,float16,float32,int8}\n",
            "                        Precision in which to load the model weights.\n",
            "                        (default: auto)\n",
            "  --model.revision str  Git revision to use for pretrained models. (default:\n",
            "                        main)\n",
            "  --slow_tokenizer      Use a slow tokenizer. (default: False)\n",
            "  --tokenizer [str]     Name of pretrained tokenizer to use from the\n",
            "                        Huggingface Hub. If None, will use\n",
            "                        AutoTokenizer.from_pretrained('<model name>').\n",
            "                        (default: None)\n",
            "  --tokenizer_type [str]\n",
            "                        Name of tokenizer class to use. If None, will use\n",
            "                        AutoTokenizer. (default: None)\n",
            "\n",
            "Data ['prog.command.data']:\n",
            "  Data configuration.\n",
            "\n",
            "  --data.name list      Name of dataset to use. Can either be a local .jsonl\n",
            "                        file or a name suitable to be passed to the\n",
            "                        HuggingFace load_dataset function. (default:\n",
            "                        ['the_pile', 'all'])\n",
            "  --split str           Split of the dataset to use. (default: validation)\n",
            "  --text_column str     Column of the dataset containing text to run the model\n",
            "                        on. (default: text)\n",
            "  --data.revision [str]\n",
            "                        The revision of the dataset to use (default: None)\n",
            "  --max_seq_len int     The maximum length of the input sequences. (default:\n",
            "                        2048)\n",
            "  --dataset_shuffle bool, --nodataset_shuffle bool\n",
            "                        Whether to shuffle the dataset prior to tokenization.\n",
            "                        (default: False)\n",
            "  --dataset_shuffle_seed int\n",
            "                        Seed to use for shuffling the dataset (default: 42)\n",
            "\n",
            "Optimizer ['prog.command.opt']:\n",
            "  Optimizer configuration.\n",
            "\n",
            "  --weight_decay float  Weight decay coefficient. (default: 0.001)\n",
            "  --lr_scale float      The default LR (1e-3 for Adam, 1.0 for SGD) is scaled\n",
            "                        by this factor. (default: 1.0)\n",
            "  --momentum float      Momentum coefficient for SGD, or beta1 for Adam.\n",
            "                        (default: 0.9)\n",
            "  --zero                Use ZeroRedundancyOptimizer. (default: False)\n",
            "  --optimizer OptimizerOption\n",
            "                        The type of optimizer to use. (default: SGD)\n",
            "  --warmup_steps [int]  Number of warmup steps. Defaults to min(0.2 *\n",
            "                        num_steps, 1000) for Adam and 0 for SGD. (default:\n",
            "                        None)\n",
            "\n",
            "Distributed ['prog.command.dist']:\n",
            "  Configuration for how to distribute the training.\n",
            "\n",
            "  --fsdp                Run the model with Fully Sharded Data Parallelism.\n",
            "                        (default: False)\n",
            "  --cpu_offload         Use CPU offloading. Must be combined with fsdp\n",
            "                        (default: False)\n",
            "  --nccl_timeout int    Timeout for NCCL operations in seconds. (default:\n",
            "                        1200)\n",
            "  --per_gpu_batch_size int\n",
            "                        The batch size per GPU. (default: 1)\n",
            "  --dataloader_shuffle bool, --nodataloader_shuffle bool\n",
            "                        Whether to shuffle the batches of tokenized data as\n",
            "                        they are loaded. (default: True)\n"
          ]
        }
      ]
    },
    {
      "cell_type": "code",
      "source": [
        "# @title Train Tuned Lens\n",
        "# run this section only once; if you don't want to train, you can load our trained version\n",
        "# !python -m tuned_lens train \\\n",
        "#   --model.name ../result \\\n",
        "#   --data.name sort_train_with_weight.jsonl \\\n",
        "#   --text_column text \\\n",
        "#   --per_gpu_batch_size 2 \\\n",
        "#   --tokens_per_step 1024 \\\n",
        "#   --num_steps 25 \\\n",
        "#   --output ../sorted-lens/gpt2-sort\n"
      ],
      "metadata": {
        "id": "lCTuUAck2ZRo"
      },
      "execution_count": 27,
      "outputs": []
    },
    {
      "cell_type": "code",
      "source": [
        "# @title Load our Finetuned Model and Trained Tuned Lens\n",
        "import torch\n",
        "from tuned_lens.nn.lenses import TunedLens\n",
        "from transformers import AutoModelForCausalLM, AutoTokenizer\n",
        "from transformers import GPT2LMHeadModel, GPT2Tokenizer\n",
        "\n",
        "device = torch.device('cuda' if torch.cuda.is_available() else 'cpu')\n",
        "# To try a diffrent modle / lens check if the lens is avalible then modify this code\n",
        "model_dir = '../result'\n",
        "model = GPT2LMHeadModel.from_pretrained(model_dir)\n",
        "model = model.to(device)\n",
        "\n",
        "tokenizer = GPT2Tokenizer.from_pretrained(model_dir)\n",
        "lens_dir = '../sorted-lens/gpt2-sort'\n",
        "tuned_lens = TunedLens.from_model_and_pretrained(model, lens_dir)\n",
        "tuned_lens = tuned_lens.to(device)"
      ],
      "metadata": {
        "id": "LjAmtGuP2lXc"
      },
      "execution_count": 28,
      "outputs": []
    },
    {
      "cell_type": "code",
      "source": [
        "# @title Setup Experiment samples\n",
        "input_1 = tokenizer.encode(\n",
        "    'Input: [6, 34, 11, 98, 52]\\nOutput: [6, 11, 34, 52, 98]'\n",
        ")\n",
        "input_2 = tokenizer.encode(\n",
        "    'Input: [34, 13, 4, 48, 68]\\nOutput: [4, 13, 34, 48, 68]'\n",
        ")\n",
        "input_3 = tokenizer.encode(\n",
        "    'Input: [71, 42, 43, 6, 20]\\nOutput: [6, 20, 42, 43, 71]'\n",
        ")\n",
        "input_4 = tokenizer.encode(\n",
        "    'Input: [31, 20, 0, 55, 99]\\nOutput: [0, 20, 31, 55, 99]'\n",
        ")\n",
        "input_5 = tokenizer.encode(\n",
        "    'Input: [60, 4, 98, 39, 17]\\nOutput: [4, 17, 39, 60, 98]'\n",
        ")\n",
        "input_6 = tokenizer.encode(\n",
        "    'Input: [16, 12, 92, 33, 80]\\nOutput: [12, 16, 33, 80, 92]'\n",
        ")\n",
        "\n",
        "targets_1 = input_1[1:] + [tokenizer.eos_token_id]\n",
        "targets_2 = input_2[1:] + [tokenizer.eos_token_id]\n",
        "targets_3 = input_3[1:] + [tokenizer.eos_token_id]\n",
        "targets_4 = input_4[1:] + [tokenizer.eos_token_id]\n",
        "targets_5 = input_5[1:] + [tokenizer.eos_token_id]\n",
        "targets_6 = input_6[1:] + [tokenizer.eos_token_id]\n",
        "# targets_model = input_ids_model[1:] + [tokenizer.eos_token_id]\n",
        "\n",
        "print(tokenizer.convert_ids_to_tokens(input_1))\n",
        "# print the length of the tokens\n",
        "print(len(input_1))\n",
        "# print(tokenizer.convert_ids_to_tokens(input_ids_model))"
      ],
      "metadata": {
        "id": "_ooqb5Ge58xW",
        "outputId": "9b7f2384-0fb2-4ccf-b2b4-09421af0cadb",
        "colab": {
          "base_uri": "https://localhost:8080/"
        }
      },
      "execution_count": 29,
      "outputs": [
        {
          "output_type": "stream",
          "name": "stdout",
          "text": [
            "['Input', ':', 'Ġ[', '6', ',', 'Ġ34', ',', 'Ġ11', ',', 'Ġ98', ',', 'Ġ52', ']', 'Ċ', 'Output', ':', 'Ġ[', '6', ',', 'Ġ11', ',', 'Ġ34', ',', 'Ġ52', ',', 'Ġ98', ']']\n",
            "27\n"
          ]
        }
      ]
    },
    {
      "cell_type": "code",
      "source": [
        "# generate length-5 arrays\n",
        "def generate_tests(num_examples=10000, seed=123):\n",
        "  random.seed(seed)\n",
        "  examples = []\n",
        "  for _ in range(num_examples):\n",
        "    arr = random.sample(range(100), 5)\n",
        "    sorted_arr = sorted(arr)\n",
        "    example = f\"Input: {arr}\\nOutput: {sorted_arr}\"\n",
        "    examples.append(example)\n",
        "  # shuffle the ordering\n",
        "  random.shuffle(examples)\n",
        "  return examples\n",
        "\n",
        "def percentage_to_float(percentage_string):\n",
        "  try:\n",
        "      clean_string = percentage_string.strip().replace(\",\", \".\")\n",
        "      numeric_value = float(clean_string.replace(\"%\", \"\"))\n",
        "      return numeric_value / 100.0\n",
        "  except ValueError:\n",
        "      return None\n",
        "\n",
        "test_samples = generate_tests(num_examples=100, seed=212)"
      ],
      "metadata": {
        "id": "k_2LWaCM7ib1"
      },
      "execution_count": 30,
      "outputs": []
    },
    {
      "cell_type": "code",
      "source": [
        "# @title Setup Trajectories\n",
        "from tuned_lens.plotting import PredictionTrajectory\n",
        "\n",
        "line = slice(14, None)\n",
        "\n",
        "def gen_tra(model, tokenizer, input_ids, targets):\n",
        "  trajectory = PredictionTrajectory.from_lens_and_model(\n",
        "      tuned_lens,\n",
        "      model=model,\n",
        "      tokenizer=tokenizer,\n",
        "      input_ids=input_ids,\n",
        "      targets=targets,\n",
        "  ).slice_sequence(line)\n",
        "  # print(trajectory.max_probability().trajectory_labels.hover_over_entries)\n",
        "                            # shape: 13*13*10*2 = n_layers x sequence_length x n_hover_over_entries x cols\n",
        "  return trajectory\n",
        "\n",
        "def calculate_label_probs(model, test_samples):\n",
        "  probs = np.zeros((13, 13, 100))\n",
        "  for i in range(100):\n",
        "    curr_sample = test_samples[i]\n",
        "    input = tokenizer.encode(curr_sample)\n",
        "    # input = torch.tensor(input, device=device)\n",
        "    tokens = tokenizer.convert_ids_to_tokens(input)[14:]\n",
        "    tokens = [token.replace(\"Ġ\", \"_\") for token in tokens]\n",
        "    # print(tokens)\n",
        "    target = input[1:] + [tokenizer.eos_token_id]\n",
        "    curr_trajectory = gen_tra(model, tokenizer, input, target)\n",
        "    probabilities = curr_trajectory.max_probability().trajectory_labels.hover_over_entries\n",
        "    for j in range(13):\n",
        "      for k in range(13):\n",
        "        label_prob = {probabilities[j][k][l][0]: probabilities[j][k][l][1] for l in range(10)}\n",
        "        if k == 12:\n",
        "          true_label = '<|endo…'\n",
        "          # print([probabilities[j][k][l][0] for l in range(10)][0])\n",
        "        else:\n",
        "          true_label = tokens[k+1]\n",
        "        true_prob = 0\n",
        "        if true_label in label_prob.keys():\n",
        "          true_prob = label_prob[true_label]\n",
        "          true_prob = percentage_to_float(true_prob)\n",
        "        # print(true_label, true_prob)\n",
        "        probs[j][k][i] = true_prob\n",
        "        # print(label_prob)\n",
        "\n",
        "  probs = np.mean(probs, axis=2)\n",
        "  probs = probs.tolist()\n",
        "  return probs\n",
        "\n",
        "# trajectory_1 = gen_tra(model, tokenizer, input_1, targets_1)\n",
        "# trajectory_2 = gen_tra(model, tokenizer, input_2, targets_2)\n",
        "# trajectory_3 = gen_tra(model, tokenizer, input_3, targets_3)\n",
        "# trajectory_4 = gen_tra(model, tokenizer, input_4, targets_4)\n",
        "# trajectory_5 = gen_tra(model, tokenizer, input_5, targets_5)\n",
        "# trajectory_6 = gen_tra(model, tokenizer, input_6, targets_6)"
      ],
      "metadata": {
        "id": "ofV_iTY27rUI"
      },
      "execution_count": 31,
      "outputs": []
    },
    {
      "cell_type": "code",
      "source": [
        "avg_true_label_prob = calculate_label_probs(model, test_samples)\n",
        "print(len(avg_true_label_prob))"
      ],
      "metadata": {
        "id": "8l3Hw7ob8Gpp",
        "outputId": "f1c1972a-29d2-4a5f-e3ef-4d47da8f17b2",
        "colab": {
          "base_uri": "https://localhost:8080/"
        }
      },
      "execution_count": 32,
      "outputs": [
        {
          "output_type": "stream",
          "name": "stdout",
          "text": [
            "13\n"
          ]
        }
      ]
    },
    {
      "cell_type": "code",
      "source": [
        "sns.heatmap(avg_true_label_prob)\n",
        "plt.gca().invert_yaxis()"
      ],
      "metadata": {
        "id": "abCImRY28Kf9",
        "outputId": "f54c35bc-7849-4370-f9ad-02924d4ec9f2",
        "colab": {
          "base_uri": "https://localhost:8080/",
          "height": 435
        }
      },
      "execution_count": 33,
      "outputs": [
        {
          "output_type": "display_data",
          "data": {
            "text/plain": [
              "<Figure size 640x480 with 2 Axes>"
            ],
            "image/png": "[encoded data removed]"
          },
          "metadata": {}
        }
      ]
    },
    {
      "cell_type": "markdown",
      "source": [
        "## Neuron Ablation"
      ],
      "metadata": {
        "id": "gb72Cpy58L3H"
      }
    },
    {
      "cell_type": "code",
      "source": [
        "# @title Neuron Ablation\n",
        "\n",
        "import copy\n",
        "\n",
        "# def ablate_head(module, inp, out):\n",
        "#     # out is a tuple, the first element is the attention output\n",
        "#     out = list(out)  # Convert the tuple to a list to allow modification\n",
        "#     out[0] = out[0].clone()  # Clone the first element (attention output)\n",
        "#     out[0][..., start:end] = 0  # Apply ablation to the cloned tensor\n",
        "#     return tuple(out)  # Convert the list back to a tuple\n",
        "\n",
        "n_head = model.config.n_head                # 12 for gpt2-small\n",
        "head_size = model.config.hidden_size // n_head\n",
        "\n",
        "def calculate_ablated_prob(layer):\n",
        "  ablated_prob_dict = {}\n",
        "\n",
        "  model.eval()\n",
        "  model.to(device)\n",
        "  original_weights = model.transformer.h[layer].attn.c_attn.weight.data.clone() # Store original weights\n",
        "\n",
        "  for h in range(n_head):\n",
        "    start, end = h * head_size, (h + 1) * head_size\n",
        "\n",
        "    # copy the model to model_ablated\n",
        "    model_ablated = copy.deepcopy(model)\n",
        "\n",
        "    # manually set the outputs the neurons of that head to be zero\n",
        "    weights = model_ablated.transformer.h[layer].attn.c_attn.weight\n",
        "\n",
        "    # Create a new tensor with the same data and requires_grad=False\n",
        "    # This is a leaf variable, so we can change requires_grad\n",
        "    new_weights = torch.tensor(weights.data, requires_grad=False, device=weights.device)\n",
        "\n",
        "    # Apply ablation to the new_weights tensor\n",
        "    new_weights[:, start:end] = 0\n",
        "\n",
        "    # Assign the modified weights back to the model\n",
        "    model_ablated.transformer.h[layer].attn.c_attn.weight = torch.nn.Parameter(new_weights)\n",
        "    # print(h, \"th head:\")\n",
        "    # print(model_ablated.transformer.h[layer_i].attn.c_attn.weight)\n",
        "\n",
        "    avg_true_label_prob_ablated = calculate_label_probs(model_ablated, test_samples)\n",
        "    ablated_prob_dict[h] = avg_true_label_prob_ablated\n",
        "\n",
        "  return ablated_prob_dict\n"
      ],
      "metadata": {
        "id": "lEQUblo-B1Y-"
      },
      "execution_count": 34,
      "outputs": []
    },
    {
      "cell_type": "code",
      "source": [
        "layer_to_ablated_probs = {}\n",
        "for i in range(12): # not 13\n",
        "  print(\"Calculating at the\", i, \"th layer:\")\n",
        "  ablated_prob_dict = calculate_ablated_prob(i)\n",
        "  layer_to_ablated_probs[i] = ablated_prob_dict\n",
        "  # store the results\n",
        "  with open(\"../ablation_results.json\", \"w\") as f:\n",
        "    json.dump(layer_to_ablated_probs, f, indent=4)"
      ],
      "metadata": {
        "id": "Q1uQ4NpCC0kW",
        "outputId": "0b1d6f3d-495e-4cbb-c252-452ab4ff74fc",
        "colab": {
          "base_uri": "https://localhost:8080/",
          "height": 445
        }
      },
      "execution_count": 35,
      "outputs": [
        {
          "output_type": "stream",
          "name": "stdout",
          "text": [
            "Calculating at the 0 th layer:\n"
          ]
        },
        {
          "output_type": "stream",
          "name": "stderr",
          "text": [
            "<ipython-input-34-0ff80c956788>:33: UserWarning: To copy construct from a tensor, it is recommended to use sourceTensor.clone().detach() or sourceTensor.clone().detach().requires_grad_(True), rather than torch.tensor(sourceTensor).\n",
            "  new_weights = torch.tensor(weights.data, requires_grad=False, device=weights.device)\n"
          ]
        },
        {
          "output_type": "stream",
          "name": "stdout",
          "text": [
            "Calculating at the 1 th layer:\n"
          ]
        },
        {
          "output_type": "error",
          "ename": "KeyboardInterrupt",
          "evalue": "",
          "traceback": [
            "\u001b[0;31m---------------------------------------------------------------------------\u001b[0m",
            "\u001b[0;31mKeyboardInterrupt\u001b[0m                         Traceback (most recent call last)",
            "\u001b[0;32m<ipython-input-35-871139d3edb7>\u001b[0m in \u001b[0;36m<cell line: 0>\u001b[0;34m()\u001b[0m\n\u001b[1;32m      2\u001b[0m \u001b[0;32mfor\u001b[0m \u001b[0mi\u001b[0m \u001b[0;32min\u001b[0m \u001b[0mrange\u001b[0m\u001b[0;34m(\u001b[0m\u001b[0;36m12\u001b[0m\u001b[0;34m)\u001b[0m\u001b[0;34m:\u001b[0m \u001b[0;31m# not 13\u001b[0m\u001b[0;34m\u001b[0m\u001b[0;34m\u001b[0m\u001b[0m\n\u001b[1;32m      3\u001b[0m   \u001b[0mprint\u001b[0m\u001b[0;34m(\u001b[0m\u001b[0;34m\"Calculating at the\"\u001b[0m\u001b[0;34m,\u001b[0m \u001b[0mi\u001b[0m\u001b[0;34m,\u001b[0m \u001b[0;34m\"th layer:\"\u001b[0m\u001b[0;34m)\u001b[0m\u001b[0;34m\u001b[0m\u001b[0;34m\u001b[0m\u001b[0m\n\u001b[0;32m----> 4\u001b[0;31m   \u001b[0mablated_prob_dict\u001b[0m \u001b[0;34m=\u001b[0m \u001b[0mcalculate_ablated_prob\u001b[0m\u001b[0;34m(\u001b[0m\u001b[0mi\u001b[0m\u001b[0;34m)\u001b[0m\u001b[0;34m\u001b[0m\u001b[0;34m\u001b[0m\u001b[0m\n\u001b[0m\u001b[1;32m      5\u001b[0m   \u001b[0mlayer_to_ablated_probs\u001b[0m\u001b[0;34m[\u001b[0m\u001b[0mi\u001b[0m\u001b[0;34m]\u001b[0m \u001b[0;34m=\u001b[0m \u001b[0mablated_prob_dict\u001b[0m\u001b[0;34m\u001b[0m\u001b[0;34m\u001b[0m\u001b[0m\n\u001b[1;32m      6\u001b[0m   \u001b[0;31m# store the results\u001b[0m\u001b[0;34m\u001b[0m\u001b[0;34m\u001b[0m\u001b[0m\n",
            "\u001b[0;32m<ipython-input-34-0ff80c956788>\u001b[0m in \u001b[0;36mcalculate_ablated_prob\u001b[0;34m(layer)\u001b[0m\n\u001b[1;32m     41\u001b[0m     \u001b[0;31m# print(model_ablated.transformer.h[layer_i].attn.c_attn.weight)\u001b[0m\u001b[0;34m\u001b[0m\u001b[0;34m\u001b[0m\u001b[0m\n\u001b[1;32m     42\u001b[0m \u001b[0;34m\u001b[0m\u001b[0m\n\u001b[0;32m---> 43\u001b[0;31m     \u001b[0mavg_true_label_prob_ablated\u001b[0m \u001b[0;34m=\u001b[0m \u001b[0mcalculate_label_probs\u001b[0m\u001b[0;34m(\u001b[0m\u001b[0mmodel_ablated\u001b[0m\u001b[0;34m,\u001b[0m \u001b[0mtest_samples\u001b[0m\u001b[0;34m)\u001b[0m\u001b[0;34m\u001b[0m\u001b[0;34m\u001b[0m\u001b[0m\n\u001b[0m\u001b[1;32m     44\u001b[0m     \u001b[0mablated_prob_dict\u001b[0m\u001b[0;34m[\u001b[0m\u001b[0mh\u001b[0m\u001b[0;34m]\u001b[0m \u001b[0;34m=\u001b[0m \u001b[0mavg_true_label_prob_ablated\u001b[0m\u001b[0;34m\u001b[0m\u001b[0;34m\u001b[0m\u001b[0m\n\u001b[1;32m     45\u001b[0m \u001b[0;34m\u001b[0m\u001b[0m\n",
            "\u001b[0;32m<ipython-input-31-5deada01833f>\u001b[0m in \u001b[0;36mcalculate_label_probs\u001b[0;34m(model, test_samples)\u001b[0m\n\u001b[1;32m     26\u001b[0m     \u001b[0;31m# print(tokens)\u001b[0m\u001b[0;34m\u001b[0m\u001b[0;34m\u001b[0m\u001b[0m\n\u001b[1;32m     27\u001b[0m     \u001b[0mtarget\u001b[0m \u001b[0;34m=\u001b[0m \u001b[0minput\u001b[0m\u001b[0;34m[\u001b[0m\u001b[0;36m1\u001b[0m\u001b[0;34m:\u001b[0m\u001b[0;34m]\u001b[0m \u001b[0;34m+\u001b[0m \u001b[0;34m[\u001b[0m\u001b[0mtokenizer\u001b[0m\u001b[0;34m.\u001b[0m\u001b[0meos_token_id\u001b[0m\u001b[0;34m]\u001b[0m\u001b[0;34m\u001b[0m\u001b[0;34m\u001b[0m\u001b[0m\n\u001b[0;32m---> 28\u001b[0;31m     \u001b[0mcurr_trajectory\u001b[0m \u001b[0;34m=\u001b[0m \u001b[0mgen_tra\u001b[0m\u001b[0;34m(\u001b[0m\u001b[0mmodel\u001b[0m\u001b[0;34m,\u001b[0m \u001b[0mtokenizer\u001b[0m\u001b[0;34m,\u001b[0m \u001b[0minput\u001b[0m\u001b[0;34m,\u001b[0m \u001b[0mtarget\u001b[0m\u001b[0;34m)\u001b[0m\u001b[0;34m\u001b[0m\u001b[0;34m\u001b[0m\u001b[0m\n\u001b[0m\u001b[1;32m     29\u001b[0m     \u001b[0mprobabilities\u001b[0m \u001b[0;34m=\u001b[0m \u001b[0mcurr_trajectory\u001b[0m\u001b[0;34m.\u001b[0m\u001b[0mmax_probability\u001b[0m\u001b[0;34m(\u001b[0m\u001b[0;34m)\u001b[0m\u001b[0;34m.\u001b[0m\u001b[0mtrajectory_labels\u001b[0m\u001b[0;34m.\u001b[0m\u001b[0mhover_over_entries\u001b[0m\u001b[0;34m\u001b[0m\u001b[0;34m\u001b[0m\u001b[0m\n\u001b[1;32m     30\u001b[0m     \u001b[0;32mfor\u001b[0m \u001b[0mj\u001b[0m \u001b[0;32min\u001b[0m \u001b[0mrange\u001b[0m\u001b[0;34m(\u001b[0m\u001b[0;36m13\u001b[0m\u001b[0;34m)\u001b[0m\u001b[0;34m:\u001b[0m\u001b[0;34m\u001b[0m\u001b[0;34m\u001b[0m\u001b[0m\n",
            "\u001b[0;32m<ipython-input-31-5deada01833f>\u001b[0m in \u001b[0;36mgen_tra\u001b[0;34m(model, tokenizer, input_ids, targets)\u001b[0m\n\u001b[1;32m      5\u001b[0m \u001b[0;34m\u001b[0m\u001b[0m\n\u001b[1;32m      6\u001b[0m \u001b[0;32mdef\u001b[0m \u001b[0mgen_tra\u001b[0m\u001b[0;34m(\u001b[0m\u001b[0mmodel\u001b[0m\u001b[0;34m,\u001b[0m \u001b[0mtokenizer\u001b[0m\u001b[0;34m,\u001b[0m \u001b[0minput_ids\u001b[0m\u001b[0;34m,\u001b[0m \u001b[0mtargets\u001b[0m\u001b[0;34m)\u001b[0m\u001b[0;34m:\u001b[0m\u001b[0;34m\u001b[0m\u001b[0;34m\u001b[0m\u001b[0m\n\u001b[0;32m----> 7\u001b[0;31m   trajectory = PredictionTrajectory.from_lens_and_model(\n\u001b[0m\u001b[1;32m      8\u001b[0m       \u001b[0mtuned_lens\u001b[0m\u001b[0;34m,\u001b[0m\u001b[0;34m\u001b[0m\u001b[0;34m\u001b[0m\u001b[0m\n\u001b[1;32m      9\u001b[0m       \u001b[0mmodel\u001b[0m\u001b[0;34m=\u001b[0m\u001b[0mmodel\u001b[0m\u001b[0;34m,\u001b[0m\u001b[0;34m\u001b[0m\u001b[0;34m\u001b[0m\u001b[0m\n",
            "\u001b[0;32m/content/gdrive/.shortcut-targets-by-id/1qq_eRQ7sEnurJKWlZrToQexrkT_1JQJn/gpt2_sort/tuned-lens/tuned_lens/plotting/prediction_trajectory.py\u001b[0m in \u001b[0;36mfrom_lens_and_model\u001b[0;34m(cls, lens, model, input_ids, tokenizer, targets, anti_targets, mask_input)\u001b[0m\n\u001b[1;32m    295\u001b[0m         \u001b[0mtraj_log_probs\u001b[0m \u001b[0;34m=\u001b[0m \u001b[0;34m[\u001b[0m\u001b[0;34m]\u001b[0m\u001b[0;34m\u001b[0m\u001b[0;34m\u001b[0m\u001b[0m\n\u001b[1;32m    296\u001b[0m         \u001b[0;32mfor\u001b[0m \u001b[0mi\u001b[0m\u001b[0;34m,\u001b[0m \u001b[0mh\u001b[0m \u001b[0;32min\u001b[0m \u001b[0menumerate\u001b[0m\u001b[0;34m(\u001b[0m\u001b[0mstream\u001b[0m\u001b[0;34m[\u001b[0m\u001b[0;34m:\u001b[0m\u001b[0;34m-\u001b[0m\u001b[0;36m1\u001b[0m\u001b[0;34m]\u001b[0m\u001b[0;34m)\u001b[0m\u001b[0;34m:\u001b[0m\u001b[0;34m\u001b[0m\u001b[0;34m\u001b[0m\u001b[0m\n\u001b[0;32m--> 297\u001b[0;31m             \u001b[0mlogits\u001b[0m \u001b[0;34m=\u001b[0m \u001b[0mlens\u001b[0m\u001b[0;34m.\u001b[0m\u001b[0mforward\u001b[0m\u001b[0;34m(\u001b[0m\u001b[0mh\u001b[0m\u001b[0;34m,\u001b[0m \u001b[0mi\u001b[0m\u001b[0;34m)\u001b[0m\u001b[0;34m\u001b[0m\u001b[0;34m\u001b[0m\u001b[0m\n\u001b[0m\u001b[1;32m    298\u001b[0m \u001b[0;34m\u001b[0m\u001b[0m\n\u001b[1;32m    299\u001b[0m             \u001b[0;32mif\u001b[0m \u001b[0mmask_input\u001b[0m\u001b[0;34m:\u001b[0m\u001b[0;34m\u001b[0m\u001b[0;34m\u001b[0m\u001b[0m\n",
            "\u001b[0;32m/content/gdrive/.shortcut-targets-by-id/1qq_eRQ7sEnurJKWlZrToQexrkT_1JQJn/gpt2_sort/tuned-lens/tuned_lens/nn/lenses.py\u001b[0m in \u001b[0;36mforward\u001b[0;34m(self, h, idx)\u001b[0m\n\u001b[1;32m    314\u001b[0m         \u001b[0;34m\"\"\"Transform and then decode the hidden states into logits.\"\"\"\u001b[0m\u001b[0;34m\u001b[0m\u001b[0;34m\u001b[0m\u001b[0m\n\u001b[1;32m    315\u001b[0m         \u001b[0mh\u001b[0m \u001b[0;34m=\u001b[0m \u001b[0mself\u001b[0m\u001b[0;34m.\u001b[0m\u001b[0mtransform_hidden\u001b[0m\u001b[0;34m(\u001b[0m\u001b[0mh\u001b[0m\u001b[0;34m,\u001b[0m \u001b[0midx\u001b[0m\u001b[0;34m)\u001b[0m\u001b[0;34m\u001b[0m\u001b[0;34m\u001b[0m\u001b[0m\n\u001b[0;32m--> 316\u001b[0;31m         \u001b[0;32mreturn\u001b[0m \u001b[0mself\u001b[0m\u001b[0;34m.\u001b[0m\u001b[0munembed\u001b[0m\u001b[0;34m.\u001b[0m\u001b[0mforward\u001b[0m\u001b[0;34m(\u001b[0m\u001b[0mh\u001b[0m\u001b[0;34m)\u001b[0m\u001b[0;34m\u001b[0m\u001b[0;34m\u001b[0m\u001b[0m\n\u001b[0m\u001b[1;32m    317\u001b[0m \u001b[0;34m\u001b[0m\u001b[0m\n\u001b[1;32m    318\u001b[0m     \u001b[0;32mdef\u001b[0m \u001b[0m__len__\u001b[0m\u001b[0;34m(\u001b[0m\u001b[0mself\u001b[0m\u001b[0;34m)\u001b[0m \u001b[0;34m->\u001b[0m \u001b[0mint\u001b[0m\u001b[0;34m:\u001b[0m\u001b[0;34m\u001b[0m\u001b[0;34m\u001b[0m\u001b[0m\n",
            "\u001b[0;32m/content/gdrive/.shortcut-targets-by-id/1qq_eRQ7sEnurJKWlZrToQexrkT_1JQJn/gpt2_sort/tuned-lens/tuned_lens/nn/unembed.py\u001b[0m in \u001b[0;36mforward\u001b[0;34m(self, h)\u001b[0m\n\u001b[1;32m     62\u001b[0m     \u001b[0;32mdef\u001b[0m \u001b[0mforward\u001b[0m\u001b[0;34m(\u001b[0m\u001b[0mself\u001b[0m\u001b[0;34m,\u001b[0m \u001b[0mh\u001b[0m\u001b[0;34m:\u001b[0m \u001b[0mth\u001b[0m\u001b[0;34m.\u001b[0m\u001b[0mTensor\u001b[0m\u001b[0;34m)\u001b[0m \u001b[0;34m->\u001b[0m \u001b[0mth\u001b[0m\u001b[0;34m.\u001b[0m\u001b[0mTensor\u001b[0m\u001b[0;34m:\u001b[0m\u001b[0;34m\u001b[0m\u001b[0;34m\u001b[0m\u001b[0m\n\u001b[1;32m     63\u001b[0m         \u001b[0;34m\"\"\"Convert hidden states into logits.\"\"\"\u001b[0m\u001b[0;34m\u001b[0m\u001b[0;34m\u001b[0m\u001b[0m\n\u001b[0;32m---> 64\u001b[0;31m         \u001b[0;32mreturn\u001b[0m \u001b[0mself\u001b[0m\u001b[0;34m.\u001b[0m\u001b[0munembedding\u001b[0m\u001b[0;34m(\u001b[0m\u001b[0mself\u001b[0m\u001b[0;34m.\u001b[0m\u001b[0mfinal_norm\u001b[0m\u001b[0;34m(\u001b[0m\u001b[0mh\u001b[0m\u001b[0;34m)\u001b[0m\u001b[0;34m)\u001b[0m\u001b[0;34m\u001b[0m\u001b[0;34m\u001b[0m\u001b[0m\n\u001b[0m\u001b[1;32m     65\u001b[0m \u001b[0;34m\u001b[0m\u001b[0m\n\u001b[1;32m     66\u001b[0m     def invert(\n",
            "\u001b[0;32m/usr/local/lib/python3.11/dist-packages/torch/nn/modules/module.py\u001b[0m in \u001b[0;36m_wrapped_call_impl\u001b[0;34m(self, *args, **kwargs)\u001b[0m\n\u001b[1;32m   1737\u001b[0m             \u001b[0;32mreturn\u001b[0m \u001b[0mself\u001b[0m\u001b[0;34m.\u001b[0m\u001b[0m_compiled_call_impl\u001b[0m\u001b[0;34m(\u001b[0m\u001b[0;34m*\u001b[0m\u001b[0margs\u001b[0m\u001b[0;34m,\u001b[0m \u001b[0;34m**\u001b[0m\u001b[0mkwargs\u001b[0m\u001b[0;34m)\u001b[0m  \u001b[0;31m# type: ignore[misc]\u001b[0m\u001b[0;34m\u001b[0m\u001b[0;34m\u001b[0m\u001b[0m\n\u001b[1;32m   1738\u001b[0m         \u001b[0;32melse\u001b[0m\u001b[0;34m:\u001b[0m\u001b[0;34m\u001b[0m\u001b[0;34m\u001b[0m\u001b[0m\n\u001b[0;32m-> 1739\u001b[0;31m             \u001b[0;32mreturn\u001b[0m \u001b[0mself\u001b[0m\u001b[0;34m.\u001b[0m\u001b[0m_call_impl\u001b[0m\u001b[0;34m(\u001b[0m\u001b[0;34m*\u001b[0m\u001b[0margs\u001b[0m\u001b[0;34m,\u001b[0m \u001b[0;34m**\u001b[0m\u001b[0mkwargs\u001b[0m\u001b[0;34m)\u001b[0m\u001b[0;34m\u001b[0m\u001b[0;34m\u001b[0m\u001b[0m\n\u001b[0m\u001b[1;32m   1740\u001b[0m \u001b[0;34m\u001b[0m\u001b[0m\n\u001b[1;32m   1741\u001b[0m     \u001b[0;31m# torchrec tests the code consistency with the following code\u001b[0m\u001b[0;34m\u001b[0m\u001b[0;34m\u001b[0m\u001b[0m\n",
            "\u001b[0;32m/usr/local/lib/python3.11/dist-packages/torch/nn/modules/module.py\u001b[0m in \u001b[0;36m_call_impl\u001b[0;34m(self, *args, **kwargs)\u001b[0m\n\u001b[1;32m   1748\u001b[0m                 \u001b[0;32mor\u001b[0m \u001b[0m_global_backward_pre_hooks\u001b[0m \u001b[0;32mor\u001b[0m \u001b[0m_global_backward_hooks\u001b[0m\u001b[0;34m\u001b[0m\u001b[0;34m\u001b[0m\u001b[0m\n\u001b[1;32m   1749\u001b[0m                 or _global_forward_hooks or _global_forward_pre_hooks):\n\u001b[0;32m-> 1750\u001b[0;31m             \u001b[0;32mreturn\u001b[0m \u001b[0mforward_call\u001b[0m\u001b[0;34m(\u001b[0m\u001b[0;34m*\u001b[0m\u001b[0margs\u001b[0m\u001b[0;34m,\u001b[0m \u001b[0;34m**\u001b[0m\u001b[0mkwargs\u001b[0m\u001b[0;34m)\u001b[0m\u001b[0;34m\u001b[0m\u001b[0;34m\u001b[0m\u001b[0m\n\u001b[0m\u001b[1;32m   1751\u001b[0m \u001b[0;34m\u001b[0m\u001b[0m\n\u001b[1;32m   1752\u001b[0m         \u001b[0mresult\u001b[0m \u001b[0;34m=\u001b[0m \u001b[0;32mNone\u001b[0m\u001b[0;34m\u001b[0m\u001b[0;34m\u001b[0m\u001b[0m\n",
            "\u001b[0;32m/usr/local/lib/python3.11/dist-packages/torch/nn/modules/linear.py\u001b[0m in \u001b[0;36mforward\u001b[0;34m(self, input)\u001b[0m\n\u001b[1;32m    123\u001b[0m \u001b[0;34m\u001b[0m\u001b[0m\n\u001b[1;32m    124\u001b[0m     \u001b[0;32mdef\u001b[0m \u001b[0mforward\u001b[0m\u001b[0;34m(\u001b[0m\u001b[0mself\u001b[0m\u001b[0;34m,\u001b[0m \u001b[0minput\u001b[0m\u001b[0;34m:\u001b[0m \u001b[0mTensor\u001b[0m\u001b[0;34m)\u001b[0m \u001b[0;34m->\u001b[0m \u001b[0mTensor\u001b[0m\u001b[0;34m:\u001b[0m\u001b[0;34m\u001b[0m\u001b[0;34m\u001b[0m\u001b[0m\n\u001b[0;32m--> 125\u001b[0;31m         \u001b[0;32mreturn\u001b[0m \u001b[0mF\u001b[0m\u001b[0;34m.\u001b[0m\u001b[0mlinear\u001b[0m\u001b[0;34m(\u001b[0m\u001b[0minput\u001b[0m\u001b[0;34m,\u001b[0m \u001b[0mself\u001b[0m\u001b[0;34m.\u001b[0m\u001b[0mweight\u001b[0m\u001b[0;34m,\u001b[0m \u001b[0mself\u001b[0m\u001b[0;34m.\u001b[0m\u001b[0mbias\u001b[0m\u001b[0;34m)\u001b[0m\u001b[0;34m\u001b[0m\u001b[0;34m\u001b[0m\u001b[0m\n\u001b[0m\u001b[1;32m    126\u001b[0m \u001b[0;34m\u001b[0m\u001b[0m\n\u001b[1;32m    127\u001b[0m     \u001b[0;32mdef\u001b[0m \u001b[0mextra_repr\u001b[0m\u001b[0;34m(\u001b[0m\u001b[0mself\u001b[0m\u001b[0;34m)\u001b[0m \u001b[0;34m->\u001b[0m \u001b[0mstr\u001b[0m\u001b[0;34m:\u001b[0m\u001b[0;34m\u001b[0m\u001b[0;34m\u001b[0m\u001b[0m\n",
            "\u001b[0;31mKeyboardInterrupt\u001b[0m: "
          ]
        }
      ]
    },
    {
      "cell_type": "code",
      "source": [
        "layer_to_ablated_probs[\"no ablation\"] = avg_true_label_prob\n",
        "with open(\"../ablation_results.json\", \"w\") as f:\n",
        "  json.dump(layer_to_ablated_probs, f, indent=4)"
      ],
      "metadata": {
        "id": "7VNIS4CqC6mK"
      },
      "execution_count": null,
      "outputs": []
    },
    {
      "cell_type": "markdown",
      "source": [
        "### Pre-running Results\n",
        "If you don't want to run your self, load our results!"
      ],
      "metadata": {
        "id": "0WUhBR1yDGh0"
      }
    },
    {
      "cell_type": "code",
      "source": [
        "with open(\"ablation_results.json\", \"r\") as f:\n",
        "  data = json.load(f)"
      ],
      "metadata": {
        "id": "r3-iKldsDGSM"
      },
      "execution_count": null,
      "outputs": []
    },
    {
      "cell_type": "code",
      "source": [
        "# @title Plot Probability Changes (Each Graph Has a Different Scale)\n",
        "import matplotlib.pyplot as plt\n",
        "import seaborn as sns\n",
        "import numpy as np\n",
        "from matplotlib.colors import PowerNorm\n",
        "# from matplotlib.colors import DivergingNorm\n",
        "layer_to_ablated_probs = data\n",
        "x_labels = [f\"Token{i}\" for i in range(13)]\n",
        "y_labels = [f\"Layer{i}\" for i in range(12)] + [\"Output\"]\n",
        "\n",
        "for i in range(12): # not 13\n",
        "  fig, axes = plt.subplots(4, 3, figsize=(15, 12))\n",
        "  fig.suptitle(f\"Changes in Next Correct Token Prediction Probilities after Head Ablation at Layer {i}\", fontsize=16)\n",
        "  cbar_ax = fig.add_axes([0.92, 0.3, 0.02, 0.4])\n",
        "  plt.tight_layout(rect=[0, 0, 1, 1])\n",
        "  vmin = 100\n",
        "  vmax = -100\n",
        "  diff = []\n",
        "  for j in range(12): # num of heads\n",
        "    diff.append(np.array(layer_to_ablated_probs[str(i)][str(j)]) - np.array(layer_to_ablated_probs[\"no ablation\"]))\n",
        "    vmin = np.minimum(np.min(diff[j]), vmin)\n",
        "    vmax = np.maximum(np.max(diff[j]), vmax)\n",
        "    # print(vmin, vmax)\n",
        "\n",
        "\n",
        "  for j in range(12): # num of heads\n",
        "    plt_i, plt_j = j // 3, j % 3\n",
        "    ax = axes[plt_i, plt_j]\n",
        "    # sns.heatmap(diff[j], ax=ax, vmin=-0.35, vmax=0.1, cbar=(j == 0), cbar_ax=cbar_ax if j == 0 else None, cmap=\"coolwarm\")\n",
        "    # sns.heatmap(diff[j], ax=ax, cmap=\"coolwarm\", norm=PowerNorm(gamma=0.5, vmin=vmin, vmax=vmax), center=0, cbar=(j == 0), cbar_ax=cbar_ax if j == 0 else None)\n",
        "    sns.heatmap(\n",
        "    diff[j],\n",
        "    ax=ax,\n",
        "    cmap=\"coolwarm\",\n",
        "    vmin=vmin,\n",
        "    vmax=vmax,\n",
        "    center=0,          # ← this makes 0.0 map to the center color (white)\n",
        "    cbar=(j == 0),\n",
        "    cbar_ax=(cbar_ax if j == 0 else None),\n",
        "    )\n",
        "\n",
        "    # Add units to the colorbar\n",
        "    if j == 0:\n",
        "        cbar = ax.collections[0].colorbar\n",
        "        cbar.set_label(\"Change in Probability\")  # Set the colorbar label\n",
        "\n",
        "\n",
        "    ax.set_title(f\"Head {j} Ablated\")\n",
        "    ax.set_xticks(np.arange(len(x_labels)) + 0.5)\n",
        "    ax.set_xticklabels(x_labels, rotation=45, ha=\"right\", fontsize=8)\n",
        "\n",
        "    ax.set_yticks(np.arange(len(y_labels)) + 0.5)\n",
        "    ax.set_yticklabels(y_labels, rotation=0, fontsize=8)\n",
        "    ax.invert_yaxis()\n",
        "\n",
        "  plt.tight_layout(rect=[0, 0, 0.9, 1])\n",
        "  plt.show()"
      ],
      "metadata": {
        "id": "0hCelxLBDTU5"
      },
      "execution_count": null,
      "outputs": []
    }
  ]
}